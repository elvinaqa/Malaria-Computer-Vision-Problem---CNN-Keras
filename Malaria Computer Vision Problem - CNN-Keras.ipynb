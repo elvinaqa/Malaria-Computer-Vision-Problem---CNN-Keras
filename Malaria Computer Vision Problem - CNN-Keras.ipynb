{
 "cells": [
  {
   "cell_type": "code",
   "execution_count": 1,
   "metadata": {},
   "outputs": [],
   "source": [
    "import os"
   ]
  },
  {
   "cell_type": "code",
   "execution_count": 5,
   "metadata": {},
   "outputs": [],
   "source": [
    "directory = \"C:\\\\Users\\\\agamm\\\\Desktop\\\\Deep Learning Act\\\\cell_images\""
   ]
  },
  {
   "cell_type": "code",
   "execution_count": 6,
   "metadata": {},
   "outputs": [
    {
     "data": {
      "text/plain": [
       "['test', 'train']"
      ]
     },
     "execution_count": 6,
     "metadata": {},
     "output_type": "execute_result"
    }
   ],
   "source": [
    "os.listdir(directory)"
   ]
  },
  {
   "cell_type": "code",
   "execution_count": 8,
   "metadata": {},
   "outputs": [],
   "source": [
    "import pandas as pd\n",
    "import numpy as np\n",
    "import matplotlib.pyplot as plt\n",
    "import seaborn as sns"
   ]
  },
  {
   "cell_type": "code",
   "execution_count": 9,
   "metadata": {},
   "outputs": [],
   "source": [
    "from matplotlib.image import imread"
   ]
  },
  {
   "cell_type": "code",
   "execution_count": 11,
   "metadata": {},
   "outputs": [],
   "source": [
    "train_path = directory + \"\\\\train\\\\\"\n",
    "test_path = directory + \"\\\\test\\\\\""
   ]
  },
  {
   "cell_type": "code",
   "execution_count": 14,
   "metadata": {},
   "outputs": [
    {
     "data": {
      "text/plain": [
       "['parasitized', 'uninfected']"
      ]
     },
     "execution_count": 14,
     "metadata": {},
     "output_type": "execute_result"
    }
   ],
   "source": [
    "os.listdir(test_path)"
   ]
  },
  {
   "cell_type": "code",
   "execution_count": 15,
   "metadata": {},
   "outputs": [
    {
     "data": {
      "text/plain": [
       "['parasitized', 'uninfected']"
      ]
     },
     "execution_count": 15,
     "metadata": {},
     "output_type": "execute_result"
    }
   ],
   "source": [
    "os.listdir(train_path)"
   ]
  },
  {
   "cell_type": "code",
   "execution_count": 17,
   "metadata": {},
   "outputs": [
    {
     "data": {
      "text/plain": [
       "'C100P61ThinF_IMG_20150918_144348_cell_140.png'"
      ]
     },
     "execution_count": 17,
     "metadata": {},
     "output_type": "execute_result"
    }
   ],
   "source": [
    "os.listdir(train_path + 'parasitized')[12]"
   ]
  },
  {
   "cell_type": "code",
   "execution_count": 34,
   "metadata": {},
   "outputs": [],
   "source": [
    "one_cell = train_path + 'parasitized\\\\' + 'C100P61ThinF_IMG_20150918_144104_cell_165.png'"
   ]
  },
  {
   "cell_type": "code",
   "execution_count": 36,
   "metadata": {},
   "outputs": [
    {
     "data": {
      "text/plain": [
       "<matplotlib.image.AxesImage at 0x28bcea19fc8>"
      ]
     },
     "execution_count": 36,
     "metadata": {},
     "output_type": "execute_result"
    },
    {
     "data": {
      "image/png": "[encoded data removed]",
      "text/plain": [
       "<Figure size 432x288 with 1 Axes>"
      ]
     },
     "metadata": {
      "needs_background": "light"
     },
     "output_type": "display_data"
    }
   ],
   "source": [
    "plt.imshow(imread(one_cell))"
   ]
  },
  {
   "cell_type": "code",
   "execution_count": 40,
   "metadata": {},
   "outputs": [
    {
     "data": {
      "text/plain": [
       "(154, 145, 3)"
      ]
     },
     "execution_count": 40,
     "metadata": {},
     "output_type": "execute_result"
    }
   ],
   "source": [
    "imread(one_cell).shape"
   ]
  },
  {
   "cell_type": "code",
   "execution_count": 42,
   "metadata": {},
   "outputs": [
    {
     "data": {
      "text/plain": [
       "['C100P61ThinF_IMG_20150918_144104_cell_128.png',\n",
       " 'C100P61ThinF_IMG_20150918_144104_cell_131.png',\n",
       " 'C100P61ThinF_IMG_20150918_144104_cell_144.png',\n",
       " 'C100P61ThinF_IMG_20150918_144104_cell_21.png',\n",
       " 'C100P61ThinF_IMG_20150918_144104_cell_25.png',\n",
       " 'C100P61ThinF_IMG_20150918_144104_cell_48.png',\n",
       " 'C100P61ThinF_IMG_20150918_144104_cell_65.png',\n",
       " 'C100P61ThinF_IMG_20150918_144348_cell_120.png',\n",
       " 'C100P61ThinF_IMG_20150918_144348_cell_125.png',\n",
       " 'C100P61ThinF_IMG_20150918_144348_cell_131.png',\n",
       " 'C100P61ThinF_IMG_20150918_144348_cell_2.png',\n",
       " 'C100P61ThinF_IMG_20150918_144348_cell_25.png',\n",
       " 'C100P61ThinF_IMG_20150918_144348_cell_40.png',\n",
       " 'C100P61ThinF_IMG_20150918_144348_cell_71.png',\n",
       " 'C100P61ThinF_IMG_20150918_144823_cell_126.png',\n",
       " 'C100P61ThinF_IMG_20150918_144823_cell_127.png',\n",
       " 'C100P61ThinF_IMG_20150918_144823_cell_139.png',\n",
       " 'C100P61ThinF_IMG_20150918_144823_cell_142.png',\n",
       " 'C100P61ThinF_IMG_20150918_144823_cell_151.png',\n",
       " 'C100P61ThinF_IMG_20150918_144823_cell_21.png',\n",
       " 'C100P61ThinF_IMG_20150918_144823_cell_34.png',\n",
       " 'C100P61ThinF_IMG_20150918_144823_cell_71.png',\n",
       " 'C100P61ThinF_IMG_20150918_145042_cell_161.png',\n",
       " 'C100P61ThinF_IMG_20150918_145042_cell_27.png',\n",
       " 'C100P61ThinF_IMG_20150918_145042_cell_5.png',\n",
       " 'C100P61ThinF_IMG_20150918_145042_cell_59.png',\n",
       " 'C100P61ThinF_IMG_20150918_145042_cell_7.png',\n",
       " 'C100P61ThinF_IMG_20150918_145042_cell_81.png',\n",
       " 'C100P61ThinF_IMG_20150918_145042_cell_94.png',\n",
       " 'C100P61ThinF_IMG_20150918_145422_cell_12.png',\n",
       " 'C100P61ThinF_IMG_20150918_145422_cell_136.png',\n",
       " 'C100P61ThinF_IMG_20150918_145422_cell_157.png',\n",
       " 'C100P61ThinF_IMG_20150918_145422_cell_21.png',\n",
       " 'C100P61ThinF_IMG_20150918_145422_cell_3.png',\n",
       " 'C100P61ThinF_IMG_20150918_145422_cell_37.png',\n",
       " 'C100P61ThinF_IMG_20150918_145422_cell_85.png',\n",
       " 'C100P61ThinF_IMG_20150918_145422_cell_86.png',\n",
       " 'C100P61ThinF_IMG_20150918_145609_cell_101.png',\n",
       " 'C100P61ThinF_IMG_20150918_145609_cell_113.png',\n",
       " 'C100P61ThinF_IMG_20150918_145609_cell_121.png',\n",
       " 'C100P61ThinF_IMG_20150918_145609_cell_30.png',\n",
       " 'C100P61ThinF_IMG_20150918_145609_cell_46.png',\n",
       " 'C100P61ThinF_IMG_20150918_145609_cell_48.png',\n",
       " 'C100P61ThinF_IMG_20150918_145609_cell_75.png',\n",
       " 'C100P61ThinF_IMG_20150918_145609_cell_91.png',\n",
       " 'C100P61ThinF_IMG_20150918_145609_cell_99.png',\n",
       " 'C100P61ThinF_IMG_20150918_145938_cell_138.png',\n",
       " 'C100P61ThinF_IMG_20150918_145938_cell_154.png',\n",
       " 'C100P61ThinF_IMG_20150918_145938_cell_63.png',\n",
       " 'C100P61ThinF_IMG_20150918_145938_cell_64.png',\n",
       " 'C100P61ThinF_IMG_20150918_145938_cell_67.png',\n",
       " 'C100P61ThinF_IMG_20150918_145938_cell_72.png',\n",
       " 'C100P61ThinF_IMG_20150918_145938_cell_75.png',\n",
       " 'C100P61ThinF_IMG_20150918_145938_cell_83.png',\n",
       " 'C100P61ThinF_IMG_20150918_150041_cell_108.png',\n",
       " 'C100P61ThinF_IMG_20150918_150041_cell_12.png',\n",
       " 'C100P61ThinF_IMG_20150918_150041_cell_125.png',\n",
       " 'C100P61ThinF_IMG_20150918_150041_cell_127.png',\n",
       " 'C100P61ThinF_IMG_20150918_150041_cell_15.png',\n",
       " 'C100P61ThinF_IMG_20150918_150041_cell_47.png',\n",
       " 'C100P61ThinF_IMG_20150918_150041_cell_76.png',\n",
       " 'C101P62ThinF_IMG_20150918_151006_cell_17.png',\n",
       " 'C101P62ThinF_IMG_20150918_151006_cell_29.png',\n",
       " 'C101P62ThinF_IMG_20150918_151006_cell_32.png',\n",
       " 'C101P62ThinF_IMG_20150918_151006_cell_53.png',\n",
       " 'C101P62ThinF_IMG_20150918_151006_cell_56.png',\n",
       " 'C101P62ThinF_IMG_20150918_151006_cell_59.png',\n",
       " 'C101P62ThinF_IMG_20150918_151006_cell_8.png',\n",
       " 'C101P62ThinF_IMG_20150918_151149_cell_23.png',\n",
       " 'C101P62ThinF_IMG_20150918_151149_cell_29.png',\n",
       " 'C101P62ThinF_IMG_20150918_151149_cell_32.png',\n",
       " 'C101P62ThinF_IMG_20150918_151149_cell_34.png',\n",
       " 'C101P62ThinF_IMG_20150918_151149_cell_61.png',\n",
       " 'C101P62ThinF_IMG_20150918_151149_cell_63.png',\n",
       " 'C101P62ThinF_IMG_20150918_151239_cell_14.png',\n",
       " 'C101P62ThinF_IMG_20150918_151239_cell_17.png',\n",
       " 'C101P62ThinF_IMG_20150918_151239_cell_25.png',\n",
       " 'C101P62ThinF_IMG_20150918_151239_cell_29.png',\n",
       " 'C101P62ThinF_IMG_20150918_151239_cell_41.png',\n",
       " 'C101P62ThinF_IMG_20150918_151239_cell_51.png',\n",
       " 'C101P62ThinF_IMG_20150918_151239_cell_59.png',\n",
       " 'C101P62ThinF_IMG_20150918_151239_cell_69.png',\n",
       " 'C101P62ThinF_IMG_20150918_151335_cell_13.png',\n",
       " 'C101P62ThinF_IMG_20150918_151335_cell_16.png',\n",
       " 'C101P62ThinF_IMG_20150918_151335_cell_22.png',\n",
       " 'C101P62ThinF_IMG_20150918_151335_cell_24.png',\n",
       " 'C101P62ThinF_IMG_20150918_151335_cell_38.png',\n",
       " 'C101P62ThinF_IMG_20150918_151335_cell_44.png',\n",
       " 'C101P62ThinF_IMG_20150918_151335_cell_49.png',\n",
       " 'C101P62ThinF_IMG_20150918_151507_cell_10.png',\n",
       " 'C101P62ThinF_IMG_20150918_151507_cell_11.png',\n",
       " 'C101P62ThinF_IMG_20150918_151507_cell_15.png',\n",
       " 'C101P62ThinF_IMG_20150918_151507_cell_21.png',\n",
       " 'C101P62ThinF_IMG_20150918_151507_cell_27.png',\n",
       " 'C101P62ThinF_IMG_20150918_151507_cell_32.png',\n",
       " 'C101P62ThinF_IMG_20150918_151507_cell_40.png',\n",
       " 'C101P62ThinF_IMG_20150918_151507_cell_48.png',\n",
       " 'C101P62ThinF_IMG_20150918_151942_cell_18.png',\n",
       " 'C101P62ThinF_IMG_20150918_151942_cell_28.png',\n",
       " 'C101P62ThinF_IMG_20150918_151942_cell_4.png',\n",
       " 'C101P62ThinF_IMG_20150918_151942_cell_52.png',\n",
       " 'C101P62ThinF_IMG_20150918_151942_cell_53.png',\n",
       " 'C101P62ThinF_IMG_20150918_151942_cell_56.png',\n",
       " 'C101P62ThinF_IMG_20150918_151942_cell_57.png',\n",
       " 'C101P62ThinF_IMG_20150918_155731_cell_12.png',\n",
       " 'C101P62ThinF_IMG_20150918_155731_cell_19.png',\n",
       " 'C101P62ThinF_IMG_20150918_155731_cell_24.png',\n",
       " 'C101P62ThinF_IMG_20150918_155731_cell_25.png',\n",
       " 'C101P62ThinF_IMG_20150918_155731_cell_37.png',\n",
       " 'C101P62ThinF_IMG_20150918_155731_cell_56.png',\n",
       " 'C101P62ThinF_IMG_20150918_155731_cell_57.png',\n",
       " 'C101P62ThinF_IMG_20150923_170246_cell_1.png',\n",
       " 'C101P62ThinF_IMG_20150923_170246_cell_14.png',\n",
       " 'C101P62ThinF_IMG_20150923_170246_cell_19.png',\n",
       " 'C101P62ThinF_IMG_20150923_170246_cell_27.png',\n",
       " 'C101P62ThinF_IMG_20150923_170246_cell_30.png',\n",
       " 'C101P62ThinF_IMG_20150923_170246_cell_42.png',\n",
       " 'C101P62ThinF_IMG_20150923_170246_cell_44.png',\n",
       " 'C101P62ThinF_IMG_20150923_170246_cell_5.png',\n",
       " 'C101P62ThinF_IMG_20150923_170246_cell_7.png',\n",
       " 'C101P62ThinF_IMG_20150923_170344_cell_27.png',\n",
       " 'C101P62ThinF_IMG_20150923_170344_cell_31.png',\n",
       " 'C101P62ThinF_IMG_20150923_170344_cell_41.png',\n",
       " 'C101P62ThinF_IMG_20150923_170344_cell_55.png',\n",
       " 'C101P62ThinF_IMG_20150923_170344_cell_61.png',\n",
       " 'C101P62ThinF_IMG_20150923_170344_cell_69.png',\n",
       " 'C101P62ThinF_IMG_20150923_170344_cell_70.png',\n",
       " 'C102P63ThinF_IMG_20150918_161508_cell_101.png',\n",
       " 'C102P63ThinF_IMG_20150918_161508_cell_113.png',\n",
       " 'C102P63ThinF_IMG_20150918_161508_cell_133.png',\n",
       " 'C102P63ThinF_IMG_20150918_161508_cell_14.png',\n",
       " 'C102P63ThinF_IMG_20150918_161508_cell_143.png',\n",
       " 'C102P63ThinF_IMG_20150918_161508_cell_150.png',\n",
       " 'C102P63ThinF_IMG_20150918_161508_cell_172.png',\n",
       " 'C102P63ThinF_IMG_20150918_161508_cell_175.png',\n",
       " 'C102P63ThinF_IMG_20150918_161508_cell_37.png',\n",
       " 'C102P63ThinF_IMG_20150918_161508_cell_71.png',\n",
       " 'C102P63ThinF_IMG_20150918_161826_cell_152.png',\n",
       " 'C102P63ThinF_IMG_20150918_161826_cell_154.png',\n",
       " 'C102P63ThinF_IMG_20150918_161826_cell_19.png',\n",
       " 'C102P63ThinF_IMG_20150918_161826_cell_41.png',\n",
       " 'C102P63ThinF_IMG_20150918_161826_cell_54.png',\n",
       " 'C102P63ThinF_IMG_20150918_161826_cell_63.png',\n",
       " 'C102P63ThinF_IMG_20150918_161826_cell_65.png',\n",
       " 'C102P63ThinF_IMG_20150918_161826_cell_70.png',\n",
       " 'C102P63ThinF_IMG_20150918_162051_cell_1.png',\n",
       " 'C102P63ThinF_IMG_20150918_162051_cell_100.png',\n",
       " 'C102P63ThinF_IMG_20150918_162051_cell_130.png',\n",
       " 'C102P63ThinF_IMG_20150918_162051_cell_19.png',\n",
       " 'C102P63ThinF_IMG_20150918_162051_cell_29.png',\n",
       " 'C102P63ThinF_IMG_20150918_162051_cell_32.png',\n",
       " 'C102P63ThinF_IMG_20150918_162051_cell_34.png',\n",
       " 'C102P63ThinF_IMG_20150918_162051_cell_65.png',\n",
       " 'C102P63ThinF_IMG_20150918_162051_cell_79.png',\n",
       " 'C102P63ThinF_IMG_20150918_162051_cell_9.png',\n",
       " 'C102P63ThinF_IMG_20150918_162155_cell_116.png',\n",
       " 'C102P63ThinF_IMG_20150918_162155_cell_117.png',\n",
       " 'C102P63ThinF_IMG_20150918_162155_cell_119.png',\n",
       " 'C102P63ThinF_IMG_20150918_162155_cell_32.png',\n",
       " 'C102P63ThinF_IMG_20150918_162155_cell_51.png',\n",
       " 'C102P63ThinF_IMG_20150918_162155_cell_76.png',\n",
       " 'C102P63ThinF_IMG_20150918_162155_cell_88.png',\n",
       " 'C102P63ThinF_IMG_20150918_162300_cell_111.png',\n",
       " 'C102P63ThinF_IMG_20150918_162300_cell_12.png',\n",
       " 'C102P63ThinF_IMG_20150918_162300_cell_129.png',\n",
       " 'C102P63ThinF_IMG_20150918_162300_cell_13.png',\n",
       " 'C102P63ThinF_IMG_20150918_162300_cell_137.png',\n",
       " 'C102P63ThinF_IMG_20150918_162300_cell_15.png',\n",
       " 'C102P63ThinF_IMG_20150918_162300_cell_29.png',\n",
       " 'C102P63ThinF_IMG_20150918_162300_cell_4.png',\n",
       " 'C102P63ThinF_IMG_20150918_162300_cell_63.png',\n",
       " 'C102P63ThinF_IMG_20150918_162300_cell_89.png',\n",
       " 'C102P63ThinF_IMG_20150918_162511_cell_102.png',\n",
       " 'C102P63ThinF_IMG_20150918_162511_cell_131.png',\n",
       " 'C102P63ThinF_IMG_20150918_162511_cell_133.png',\n",
       " 'C102P63ThinF_IMG_20150918_162511_cell_157.png',\n",
       " 'C102P63ThinF_IMG_20150918_162511_cell_163.png',\n",
       " 'C102P63ThinF_IMG_20150918_162511_cell_36.png',\n",
       " 'C102P63ThinF_IMG_20150918_162511_cell_59.png',\n",
       " 'C102P63ThinF_IMG_20150918_162511_cell_93.png',\n",
       " 'C102P63ThinF_IMG_20150918_163054_cell_127.png',\n",
       " 'C102P63ThinF_IMG_20150918_163054_cell_134.png',\n",
       " 'C102P63ThinF_IMG_20150918_163054_cell_144.png',\n",
       " 'C102P63ThinF_IMG_20150918_163054_cell_159.png',\n",
       " 'C102P63ThinF_IMG_20150918_163054_cell_25.png',\n",
       " 'C102P63ThinF_IMG_20150918_163054_cell_6.png',\n",
       " 'C102P63ThinF_IMG_20150918_163054_cell_71.png',\n",
       " 'C102P63ThinF_IMG_20150918_163054_cell_76.png',\n",
       " 'C102P63ThinF_IMG_20150918_163054_cell_83.png',\n",
       " 'C102P63ThinF_IMG_20150918_163054_cell_87.png',\n",
       " 'C103P64ThinF_IMG_20150918_164250_cell_121.png',\n",
       " 'C103P64ThinF_IMG_20150918_164250_cell_128.png',\n",
       " 'C103P64ThinF_IMG_20150918_164250_cell_15.png',\n",
       " 'C103P64ThinF_IMG_20150918_164250_cell_153.png',\n",
       " 'C103P64ThinF_IMG_20150918_164250_cell_164.png',\n",
       " 'C103P64ThinF_IMG_20150918_164250_cell_19.png',\n",
       " 'C103P64ThinF_IMG_20150918_164250_cell_28.png',\n",
       " 'C103P64ThinF_IMG_20150918_164250_cell_39.png',\n",
       " 'C103P64ThinF_IMG_20150918_164250_cell_67.png',\n",
       " 'C103P64ThinF_IMG_20150918_164250_cell_74.png',\n",
       " 'C103P64ThinF_IMG_20150918_164250_cell_85.png',\n",
       " 'C103P64ThinF_IMG_20150918_164331_cell_116.png',\n",
       " 'C103P64ThinF_IMG_20150918_164331_cell_119.png',\n",
       " 'C103P64ThinF_IMG_20150918_164331_cell_129.png',\n",
       " 'C103P64ThinF_IMG_20150918_164331_cell_153.png',\n",
       " 'C103P64ThinF_IMG_20150918_164331_cell_172.png',\n",
       " 'C103P64ThinF_IMG_20150918_164331_cell_27.png',\n",
       " 'C103P64ThinF_IMG_20150918_164331_cell_3.png',\n",
       " 'C103P64ThinF_IMG_20150918_164331_cell_35.png',\n",
       " 'C103P64ThinF_IMG_20150918_164331_cell_87.png',\n",
       " 'C103P64ThinF_IMG_20150918_164553_cell_133.png',\n",
       " 'C103P64ThinF_IMG_20150918_164553_cell_145.png',\n",
       " 'C103P64ThinF_IMG_20150918_164553_cell_148.png',\n",
       " 'C103P64ThinF_IMG_20150918_164553_cell_155.png',\n",
       " 'C103P64ThinF_IMG_20150918_164553_cell_160.png',\n",
       " 'C103P64ThinF_IMG_20150918_164553_cell_35.png',\n",
       " 'C103P64ThinF_IMG_20150918_164553_cell_42.png',\n",
       " 'C103P64ThinF_IMG_20150918_164553_cell_45.png',\n",
       " 'C103P64ThinF_IMG_20150918_164553_cell_46.png',\n",
       " 'C103P64ThinF_IMG_20150918_164553_cell_54.png',\n",
       " 'C103P64ThinF_IMG_20150918_164553_cell_80.png',\n",
       " 'C103P64ThinF_IMG_20150918_165016_cell_107.png',\n",
       " 'C103P64ThinF_IMG_20150918_165016_cell_11.png',\n",
       " 'C103P64ThinF_IMG_20150918_165016_cell_130.png',\n",
       " 'C103P64ThinF_IMG_20150918_165016_cell_139.png',\n",
       " 'C103P64ThinF_IMG_20150918_165016_cell_3.png',\n",
       " 'C103P64ThinF_IMG_20150918_165016_cell_31.png',\n",
       " 'C103P64ThinF_IMG_20150918_165016_cell_34.png',\n",
       " 'C103P64ThinF_IMG_20150918_165016_cell_77.png',\n",
       " 'C103P64ThinF_IMG_20150918_165016_cell_84.png',\n",
       " 'C103P64ThinF_IMG_20150918_165016_cell_92.png',\n",
       " 'C103P64ThinF_IMG_20150918_165125_cell_105.png',\n",
       " 'C103P64ThinF_IMG_20150918_165125_cell_106.png',\n",
       " 'C103P64ThinF_IMG_20150918_165125_cell_117.png',\n",
       " 'C103P64ThinF_IMG_20150918_165125_cell_12.png',\n",
       " 'C103P64ThinF_IMG_20150918_165125_cell_121.png',\n",
       " 'C103P64ThinF_IMG_20150918_165125_cell_132.png',\n",
       " 'C103P64ThinF_IMG_20150918_165125_cell_138.png',\n",
       " 'C103P64ThinF_IMG_20150918_165125_cell_143.png',\n",
       " 'C103P64ThinF_IMG_20150918_165125_cell_149.png',\n",
       " 'C103P64ThinF_IMG_20150918_165125_cell_156.png',\n",
       " 'C103P64ThinF_IMG_20150918_165125_cell_87.png',\n",
       " 'C103P64ThinF_IMG_20150918_165510_cell_130.png',\n",
       " 'C103P64ThinF_IMG_20150918_165510_cell_138.png',\n",
       " 'C103P64ThinF_IMG_20150918_165510_cell_14.png',\n",
       " 'C103P64ThinF_IMG_20150918_165510_cell_146.png',\n",
       " 'C103P64ThinF_IMG_20150918_165510_cell_161.png',\n",
       " 'C103P64ThinF_IMG_20150918_165510_cell_163.png',\n",
       " 'C103P64ThinF_IMG_20150918_165510_cell_28.png',\n",
       " 'C103P64ThinF_IMG_20150918_165510_cell_65.png',\n",
       " 'C103P64ThinF_IMG_20150918_165510_cell_67.png',\n",
       " 'C103P64ThinF_IMG_20150918_165510_cell_94.png',\n",
       " 'C104P65ThinF_IMG_20150918_170850_cell_140.png',\n",
       " 'C104P65ThinF_IMG_20150918_170850_cell_167.png',\n",
       " 'C104P65ThinF_IMG_20150918_170850_cell_174.png',\n",
       " 'C104P65ThinF_IMG_20150918_170850_cell_189.png',\n",
       " 'C104P65ThinF_IMG_20150918_170850_cell_29.png',\n",
       " 'C104P65ThinF_IMG_20150918_170850_cell_32.png',\n",
       " 'C104P65ThinF_IMG_20150918_170850_cell_66.png',\n",
       " 'C104P65ThinF_IMG_20150918_170850_cell_68.png',\n",
       " 'C104P65ThinF_IMG_20150918_170850_cell_83.png',\n",
       " 'C104P65ThinF_IMG_20150918_171154_cell_141.png',\n",
       " 'C104P65ThinF_IMG_20150918_171154_cell_144.png',\n",
       " 'C104P65ThinF_IMG_20150918_171154_cell_154.png',\n",
       " 'C104P65ThinF_IMG_20150918_171154_cell_163.png',\n",
       " 'C104P65ThinF_IMG_20150918_171154_cell_190.png',\n",
       " 'C104P65ThinF_IMG_20150918_171154_cell_3.png',\n",
       " 'C104P65ThinF_IMG_20150918_171154_cell_4.png',\n",
       " 'C104P65ThinF_IMG_20150918_171154_cell_88.png',\n",
       " 'C104P65ThinF_IMG_20150918_171154_cell_93.png',\n",
       " 'C104P65ThinF_IMG_20150918_171751_cell_102.png',\n",
       " 'C104P65ThinF_IMG_20150918_171751_cell_105.png',\n",
       " 'C104P65ThinF_IMG_20150918_171751_cell_106.png',\n",
       " 'C104P65ThinF_IMG_20150918_171751_cell_109.png',\n",
       " 'C104P65ThinF_IMG_20150918_171751_cell_113.png',\n",
       " 'C104P65ThinF_IMG_20150918_171751_cell_175.png',\n",
       " 'C104P65ThinF_IMG_20150918_171751_cell_31.png',\n",
       " 'C104P65ThinF_IMG_20150918_171751_cell_49.png',\n",
       " 'C104P65ThinF_IMG_20150918_171751_cell_54.png',\n",
       " 'C104P65ThinF_IMG_20150918_172053_cell_114.png',\n",
       " 'C104P65ThinF_IMG_20150918_172053_cell_159.png',\n",
       " 'C104P65ThinF_IMG_20150918_172053_cell_160.png',\n",
       " 'C104P65ThinF_IMG_20150918_172053_cell_17.png',\n",
       " 'C104P65ThinF_IMG_20150918_172053_cell_184.png',\n",
       " 'C104P65ThinF_IMG_20150918_172053_cell_31.png',\n",
       " 'C104P65ThinF_IMG_20150918_172053_cell_35.png',\n",
       " 'C104P65ThinF_IMG_20150918_172053_cell_98.png',\n",
       " 'C104P65ThinF_IMG_20150918_172214_cell_1.png',\n",
       " 'C104P65ThinF_IMG_20150918_172214_cell_134.png',\n",
       " 'C104P65ThinF_IMG_20150918_172214_cell_147.png',\n",
       " 'C104P65ThinF_IMG_20150918_172214_cell_153.png',\n",
       " 'C104P65ThinF_IMG_20150918_172214_cell_25.png',\n",
       " 'C104P65ThinF_IMG_20150918_172214_cell_27.png',\n",
       " 'C104P65ThinF_IMG_20150918_172214_cell_50.png',\n",
       " 'C104P65ThinF_IMG_20150918_172214_cell_66.png',\n",
       " 'C104P65ThinF_IMG_20150918_172214_cell_91.png',\n",
       " 'C104P65ThinF_IMG_20150918_172214_cell_99.png',\n",
       " 'C104P65ThinF_IMG_20150918_172247_cell_1.png',\n",
       " 'C104P65ThinF_IMG_20150918_172247_cell_12.png',\n",
       " 'C104P65ThinF_IMG_20150918_172247_cell_125.png',\n",
       " 'C104P65ThinF_IMG_20150918_172247_cell_126.png',\n",
       " 'C104P65ThinF_IMG_20150918_172247_cell_135.png',\n",
       " 'C104P65ThinF_IMG_20150918_172247_cell_145.png',\n",
       " 'C104P65ThinF_IMG_20150918_172247_cell_158.png',\n",
       " 'C104P65ThinF_IMG_20150918_172247_cell_69.png',\n",
       " 'C104P65ThinF_IMG_20150918_172247_cell_85.png',\n",
       " 'C104P65ThinF_IMG_20150918_172537_cell_107.png',\n",
       " 'C104P65ThinF_IMG_20150918_172537_cell_111.png',\n",
       " 'C104P65ThinF_IMG_20150918_172537_cell_126.png',\n",
       " 'C104P65ThinF_IMG_20150918_172537_cell_132.png',\n",
       " 'C104P65ThinF_IMG_20150918_172537_cell_133.png',\n",
       " 'C104P65ThinF_IMG_20150918_172537_cell_53.png',\n",
       " 'C104P65ThinF_IMG_20150918_172537_cell_67.png',\n",
       " 'C104P65ThinF_IMG_20150918_172537_cell_75.png',\n",
       " 'C104P65ThinF_IMG_20150918_172639_cell_120.png',\n",
       " 'C104P65ThinF_IMG_20150918_172639_cell_144.png',\n",
       " 'C104P65ThinF_IMG_20150918_172639_cell_167.png',\n",
       " 'C104P65ThinF_IMG_20150918_172639_cell_34.png',\n",
       " 'C104P65ThinF_IMG_20150918_172639_cell_44.png',\n",
       " 'C104P65ThinF_IMG_20150918_172639_cell_93.png',\n",
       " 'C104P65ThinF_IMG_20150918_172639_cell_95.png',\n",
       " 'C105P66ThinF_IMG_20150924_094800_cell_132.png',\n",
       " 'C105P66ThinF_IMG_20150924_094800_cell_30.png',\n",
       " 'C105P66ThinF_IMG_20150924_094800_cell_39.png',\n",
       " 'C105P66ThinF_IMG_20150924_094800_cell_62.png',\n",
       " 'C105P66ThinF_IMG_20150924_094800_cell_63.png',\n",
       " 'C105P66ThinF_IMG_20150924_094800_cell_70.png',\n",
       " 'C105P66ThinF_IMG_20150924_094800_cell_74.png',\n",
       " 'C105P66ThinF_IMG_20150924_094800_cell_90.png',\n",
       " 'C105P66ThinF_IMG_20150924_094944_cell_14.png',\n",
       " 'C105P66ThinF_IMG_20150924_094944_cell_19.png',\n",
       " 'C105P66ThinF_IMG_20150924_094944_cell_25.png',\n",
       " 'C105P66ThinF_IMG_20150924_094944_cell_3.png',\n",
       " 'C105P66ThinF_IMG_20150924_094944_cell_37.png',\n",
       " 'C105P66ThinF_IMG_20150924_094944_cell_41.png',\n",
       " 'C105P66ThinF_IMG_20150924_094944_cell_72.png',\n",
       " 'C105P66ThinF_IMG_20150924_095034_cell_1.png',\n",
       " 'C105P66ThinF_IMG_20150924_095034_cell_105.png',\n",
       " 'C105P66ThinF_IMG_20150924_095034_cell_112.png',\n",
       " 'C105P66ThinF_IMG_20150924_095034_cell_127.png',\n",
       " 'C105P66ThinF_IMG_20150924_095034_cell_133.png',\n",
       " 'C105P66ThinF_IMG_20150924_095034_cell_23.png',\n",
       " 'C105P66ThinF_IMG_20150924_095034_cell_29.png',\n",
       " 'C105P66ThinF_IMG_20150924_095034_cell_53.png',\n",
       " 'C105P66ThinF_IMG_20150924_095034_cell_75.png',\n",
       " 'C105P66ThinF_IMG_20150924_095130_cell_108.png',\n",
       " 'C105P66ThinF_IMG_20150924_095130_cell_148.png',\n",
       " 'C105P66ThinF_IMG_20150924_095130_cell_23.png',\n",
       " 'C105P66ThinF_IMG_20150924_095130_cell_4.png',\n",
       " 'C105P66ThinF_IMG_20150924_095130_cell_44.png',\n",
       " 'C105P66ThinF_IMG_20150924_095130_cell_58.png',\n",
       " 'C105P66ThinF_IMG_20150924_095130_cell_97.png',\n",
       " 'C105P66ThinF_IMG_20150924_095633_cell_104.png',\n",
       " 'C105P66ThinF_IMG_20150924_095633_cell_111.png',\n",
       " 'C105P66ThinF_IMG_20150924_095633_cell_2.png',\n",
       " 'C105P66ThinF_IMG_20150924_095633_cell_4.png',\n",
       " 'C105P66ThinF_IMG_20150924_095633_cell_5.png',\n",
       " 'C105P66ThinF_IMG_20150924_095633_cell_71.png',\n",
       " 'C105P66ThinF_IMG_20150924_095633_cell_82.png',\n",
       " 'C105P66ThinF_IMG_20150924_095633_cell_87.png',\n",
       " 'C105P66ThinF_IMG_20150924_095716_cell_3.png',\n",
       " 'C105P66ThinF_IMG_20150924_095716_cell_41.png',\n",
       " 'C105P66ThinF_IMG_20150924_095716_cell_49.png',\n",
       " 'C105P66ThinF_IMG_20150924_095716_cell_56.png',\n",
       " 'C105P66ThinF_IMG_20150924_095716_cell_57.png',\n",
       " 'C105P66ThinF_IMG_20150924_095716_cell_98.png',\n",
       " 'C105P66ThinF_IMG_20150924_095913_cell_2.png',\n",
       " 'C105P66ThinF_IMG_20150924_095913_cell_36.png',\n",
       " 'C105P66ThinF_IMG_20150924_095913_cell_50.png',\n",
       " 'C105P66ThinF_IMG_20150924_095913_cell_65.png',\n",
       " 'C105P66ThinF_IMG_20150924_095913_cell_7.png',\n",
       " 'C105P66ThinF_IMG_20150924_095913_cell_84.png',\n",
       " 'C105P66ThinF_IMG_20150924_095913_cell_88.png',\n",
       " 'C105P66ThinF_IMG_20150924_095913_cell_91.png',\n",
       " 'C105P66ThinF_IMG_20150924_095913_cell_98.png',\n",
       " 'C105P66ThinF_IMG_20150924_100655_cell_109.png',\n",
       " 'C105P66ThinF_IMG_20150924_100655_cell_33.png',\n",
       " 'C105P66ThinF_IMG_20150924_100655_cell_64.png',\n",
       " 'C105P66ThinF_IMG_20150924_100655_cell_75.png',\n",
       " 'C105P66ThinF_IMG_20150924_100655_cell_80.png',\n",
       " 'C105P66ThinF_IMG_20150924_100655_cell_81.png',\n",
       " 'C105P66ThinF_IMG_20150924_100655_cell_93.png',\n",
       " 'C105P66ThinF_IMG_20150924_100655_cell_96.png',\n",
       " 'C106P67ThinF_IMG_20150924_102245_cell_123.png',\n",
       " 'C106P67ThinF_IMG_20150924_102245_cell_149.png',\n",
       " 'C106P67ThinF_IMG_20150924_102245_cell_152.png',\n",
       " 'C106P67ThinF_IMG_20150924_102245_cell_30.png',\n",
       " 'C106P67ThinF_IMG_20150924_102245_cell_44.png',\n",
       " 'C106P67ThinF_IMG_20150924_102245_cell_63.png',\n",
       " 'C106P67ThinF_IMG_20150924_102245_cell_64.png',\n",
       " 'C106P67ThinF_IMG_20150924_102245_cell_69.png',\n",
       " 'C106P67ThinF_IMG_20150924_102245_cell_76.png',\n",
       " 'C106P67ThinF_IMG_20150924_102245_cell_86.png',\n",
       " 'C106P67ThinF_IMG_20150924_102413_cell_114.png',\n",
       " 'C106P67ThinF_IMG_20150924_102413_cell_121.png',\n",
       " 'C106P67ThinF_IMG_20150924_102413_cell_129.png',\n",
       " 'C106P67ThinF_IMG_20150924_102413_cell_175.png',\n",
       " 'C106P67ThinF_IMG_20150924_102413_cell_176.png',\n",
       " 'C106P67ThinF_IMG_20150924_102413_cell_24.png',\n",
       " 'C106P67ThinF_IMG_20150924_102413_cell_49.png',\n",
       " 'C106P67ThinF_IMG_20150924_102413_cell_9.png',\n",
       " 'C106P67ThinF_IMG_20150924_102826_cell_1.png',\n",
       " 'C106P67ThinF_IMG_20150924_102826_cell_108.png',\n",
       " 'C106P67ThinF_IMG_20150924_102826_cell_137.png',\n",
       " 'C106P67ThinF_IMG_20150924_102826_cell_140.png',\n",
       " 'C106P67ThinF_IMG_20150924_102826_cell_39.png',\n",
       " 'C106P67ThinF_IMG_20150924_102826_cell_46.png',\n",
       " 'C106P67ThinF_IMG_20150924_102826_cell_76.png',\n",
       " 'C106P67ThinF_IMG_20150924_102826_cell_85.png',\n",
       " 'C106P67ThinF_IMG_20150924_102826_cell_91.png',\n",
       " 'C106P67ThinF_IMG_20150924_103245_cell_109.png',\n",
       " 'C106P67ThinF_IMG_20150924_103245_cell_110.png',\n",
       " 'C106P67ThinF_IMG_20150924_103245_cell_127.png',\n",
       " 'C106P67ThinF_IMG_20150924_103245_cell_142.png',\n",
       " 'C106P67ThinF_IMG_20150924_103245_cell_26.png',\n",
       " 'C106P67ThinF_IMG_20150924_103245_cell_32.png',\n",
       " 'C106P67ThinF_IMG_20150924_103636_cell_10.png',\n",
       " 'C106P67ThinF_IMG_20150924_103636_cell_108.png',\n",
       " 'C106P67ThinF_IMG_20150924_103636_cell_149.png',\n",
       " 'C106P67ThinF_IMG_20150924_103636_cell_162.png',\n",
       " 'C106P67ThinF_IMG_20150924_103636_cell_163.png',\n",
       " 'C106P67ThinF_IMG_20150924_103636_cell_65.png',\n",
       " 'C106P67ThinF_IMG_20150924_103636_cell_7.png',\n",
       " 'C106P67ThinF_IMG_20150924_103636_cell_94.png',\n",
       " 'C106P67ThinF_IMG_20150924_103636_cell_99.png',\n",
       " 'C106P67ThinF_IMG_20150924_103811_cell_107.png',\n",
       " 'C106P67ThinF_IMG_20150924_103811_cell_123.png',\n",
       " 'C106P67ThinF_IMG_20150924_103811_cell_132.png',\n",
       " 'C106P67ThinF_IMG_20150924_103811_cell_137.png',\n",
       " 'C106P67ThinF_IMG_20150924_103811_cell_56.png',\n",
       " 'C106P67ThinF_IMG_20150924_103811_cell_70.png',\n",
       " 'C106P67ThinF_IMG_20150924_103811_cell_9.png',\n",
       " 'C106P67ThinF_IMG_20150924_104044_cell_115.png',\n",
       " 'C106P67ThinF_IMG_20150924_104044_cell_144.png',\n",
       " 'C106P67ThinF_IMG_20150924_104044_cell_159.png',\n",
       " 'C106P67ThinF_IMG_20150924_104044_cell_164.png',\n",
       " 'C106P67ThinF_IMG_20150924_104044_cell_26.png',\n",
       " 'C106P67ThinF_IMG_20150924_104044_cell_40.png',\n",
       " 'C106P67ThinF_IMG_20150924_104044_cell_49.png',\n",
       " 'C106P67ThinF_IMG_20150924_104044_cell_67.png',\n",
       " 'C106P67ThinF_IMG_20150924_104044_cell_90.png',\n",
       " 'C107P68ThinF_IMG_20150924_221632_cell_11.png',\n",
       " 'C107P68ThinF_IMG_20150924_221632_cell_23.png',\n",
       " 'C107P68ThinF_IMG_20150924_221632_cell_31.png',\n",
       " 'C107P68ThinF_IMG_20150924_221632_cell_33.png',\n",
       " 'C107P68ThinF_IMG_20150924_221632_cell_35.png',\n",
       " 'C107P68ThinF_IMG_20150924_221632_cell_40.png',\n",
       " 'C107P68ThinF_IMG_20150924_221632_cell_42.png',\n",
       " 'C107P68ThinF_IMG_20150924_221632_cell_61.png',\n",
       " 'C107P68ThinF_IMG_20150924_221632_cell_69.png',\n",
       " 'C107P68ThinF_IMG_20150924_221632_cell_96.png',\n",
       " 'C107P68ThinF_IMG_20150924_221909_cell_102.png',\n",
       " 'C107P68ThinF_IMG_20150924_221909_cell_113.png',\n",
       " 'C107P68ThinF_IMG_20150924_221909_cell_122.png',\n",
       " 'C107P68ThinF_IMG_20150924_221909_cell_34.png',\n",
       " 'C107P68ThinF_IMG_20150924_221909_cell_41.png',\n",
       " 'C107P68ThinF_IMG_20150924_221909_cell_61.png',\n",
       " 'C107P68ThinF_IMG_20150924_221909_cell_66.png',\n",
       " 'C107P68ThinF_IMG_20150924_221909_cell_69.png',\n",
       " 'C107P68ThinF_IMG_20150924_221909_cell_9.png',\n",
       " 'C107P68ThinF_IMG_20150924_222233_cell_109.png',\n",
       " 'C107P68ThinF_IMG_20150924_222233_cell_138.png',\n",
       " 'C107P68ThinF_IMG_20150924_222233_cell_20.png',\n",
       " 'C107P68ThinF_IMG_20150924_222233_cell_30.png',\n",
       " 'C107P68ThinF_IMG_20150924_222233_cell_36.png',\n",
       " 'C107P68ThinF_IMG_20150924_222233_cell_66.png',\n",
       " 'C107P68ThinF_IMG_20150924_222233_cell_77.png',\n",
       " 'C107P68ThinF_IMG_20150924_222233_cell_81.png',\n",
       " 'C107P68ThinF_IMG_20150924_222233_cell_89.png',\n",
       " 'C107P68ThinF_IMG_20150924_222233_cell_93.png',\n",
       " 'C107P68ThinF_IMG_20150924_222415_cell_1.png',\n",
       " 'C107P68ThinF_IMG_20150924_222415_cell_102.png',\n",
       " 'C107P68ThinF_IMG_20150924_222415_cell_121.png',\n",
       " 'C107P68ThinF_IMG_20150924_222415_cell_147.png',\n",
       " 'C107P68ThinF_IMG_20150924_222415_cell_164.png',\n",
       " 'C107P68ThinF_IMG_20150924_222415_cell_61.png',\n",
       " 'C107P68ThinF_IMG_20150924_222415_cell_63.png',\n",
       " 'C107P68ThinF_IMG_20150924_222415_cell_7.png',\n",
       " 'C107P68ThinF_IMG_20150924_222415_cell_90.png',\n",
       " 'C107P68ThinF_IMG_20150924_222535_cell_123.png',\n",
       " 'C107P68ThinF_IMG_20150924_222535_cell_13.png',\n",
       " 'C107P68ThinF_IMG_20150924_222535_cell_38.png',\n",
       " 'C107P68ThinF_IMG_20150924_222535_cell_55.png',\n",
       " 'C107P68ThinF_IMG_20150924_222535_cell_57.png',\n",
       " 'C107P68ThinF_IMG_20150924_222535_cell_59.png',\n",
       " 'C107P68ThinF_IMG_20150924_222535_cell_70.png',\n",
       " 'C107P68ThinF_IMG_20150924_222535_cell_84.png',\n",
       " 'C107P68ThinF_IMG_20150924_222535_cell_85.png',\n",
       " 'C107P68ThinF_IMG_20150924_222535_cell_88.png',\n",
       " 'C107P68ThinF_IMG_20150924_222630_cell_105.png',\n",
       " 'C107P68ThinF_IMG_20150924_222630_cell_12.png',\n",
       " 'C107P68ThinF_IMG_20150924_222630_cell_123.png',\n",
       " 'C107P68ThinF_IMG_20150924_222630_cell_129.png',\n",
       " 'C107P68ThinF_IMG_20150924_222630_cell_143.png',\n",
       " 'C107P68ThinF_IMG_20150924_222630_cell_151.png',\n",
       " 'C107P68ThinF_IMG_20150924_222630_cell_169.png',\n",
       " 'C107P68ThinF_IMG_20150924_222630_cell_170.png',\n",
       " 'C107P68ThinF_IMG_20150924_222630_cell_23.png',\n",
       " 'C107P68ThinF_IMG_20150924_222630_cell_50.png',\n",
       " 'C107P68ThinF_IMG_20150924_222630_cell_74.png',\n",
       " 'C108P69ThinF_IMG_20150924_223834_cell_117.png',\n",
       " 'C108P69ThinF_IMG_20150924_223834_cell_136.png',\n",
       " 'C108P69ThinF_IMG_20150924_223834_cell_154.png',\n",
       " 'C108P69ThinF_IMG_20150924_223834_cell_179.png',\n",
       " 'C108P69ThinF_IMG_20150924_223834_cell_204.png',\n",
       " 'C108P69ThinF_IMG_20150924_223834_cell_22.png',\n",
       " 'C108P69ThinF_IMG_20150924_223834_cell_39.png',\n",
       " 'C108P69ThinF_IMG_20150924_223834_cell_44.png',\n",
       " 'C108P69ThinF_IMG_20150924_223834_cell_52.png',\n",
       " 'C108P69ThinF_IMG_20150924_223834_cell_71.png',\n",
       " 'C108P69ThinF_IMG_20150924_224038_cell_121.png',\n",
       " 'C108P69ThinF_IMG_20150924_224038_cell_124.png',\n",
       " 'C108P69ThinF_IMG_20150924_224038_cell_174.png',\n",
       " 'C108P69ThinF_IMG_20150924_224038_cell_186.png',\n",
       " 'C108P69ThinF_IMG_20150924_224038_cell_25.png',\n",
       " 'C108P69ThinF_IMG_20150924_224038_cell_36.png',\n",
       " 'C108P69ThinF_IMG_20150924_224038_cell_49.png',\n",
       " 'C108P69ThinF_IMG_20150924_224038_cell_6.png',\n",
       " 'C108P69ThinF_IMG_20150924_224038_cell_85.png',\n",
       " 'C108P69ThinF_IMG_20150924_224616_cell_1.png',\n",
       " 'C108P69ThinF_IMG_20150924_224616_cell_102.png',\n",
       " 'C108P69ThinF_IMG_20150924_224616_cell_115.png',\n",
       " 'C108P69ThinF_IMG_20150924_224616_cell_14.png',\n",
       " 'C108P69ThinF_IMG_20150924_224616_cell_163.png',\n",
       " 'C108P69ThinF_IMG_20150924_224616_cell_171.png',\n",
       " 'C108P69ThinF_IMG_20150924_224616_cell_193.png',\n",
       " 'C108P69ThinF_IMG_20150924_224616_cell_45.png',\n",
       " 'C108P69ThinF_IMG_20150924_224616_cell_48.png',\n",
       " 'C108P69ThinF_IMG_20150924_224616_cell_54.png',\n",
       " 'C108P69ThinF_IMG_20150924_224616_cell_77.png',\n",
       " 'C108P69ThinF_IMG_20150924_224616_cell_79.png',\n",
       " 'C108P69ThinF_IMG_20150924_224616_cell_90.png',\n",
       " 'C108P69ThinF_IMG_20150924_224909_cell_133.png',\n",
       " 'C108P69ThinF_IMG_20150924_224909_cell_15.png',\n",
       " 'C108P69ThinF_IMG_20150924_224909_cell_168.png',\n",
       " 'C108P69ThinF_IMG_20150924_224909_cell_192.png',\n",
       " 'C108P69ThinF_IMG_20150924_224909_cell_210.png',\n",
       " 'C108P69ThinF_IMG_20150924_224909_cell_215.png',\n",
       " 'C108P69ThinF_IMG_20150924_224909_cell_223.png',\n",
       " 'C108P69ThinF_IMG_20150924_224909_cell_47.png',\n",
       " 'C108P69ThinF_IMG_20150924_225004_cell_109.png',\n",
       " 'C108P69ThinF_IMG_20150924_225004_cell_114.png',\n",
       " 'C108P69ThinF_IMG_20150924_225004_cell_196.png',\n",
       " 'C108P69ThinF_IMG_20150924_225004_cell_20.png',\n",
       " 'C108P69ThinF_IMG_20150924_225004_cell_212.png',\n",
       " 'C108P69ThinF_IMG_20150924_225004_cell_25.png',\n",
       " 'C108P69ThinF_IMG_20150924_225004_cell_39.png',\n",
       " 'C108P69ThinF_IMG_20150924_225004_cell_45.png',\n",
       " 'C108P69ThinF_IMG_20150924_225004_cell_46.png',\n",
       " 'C108P69ThinF_IMG_20150924_225004_cell_57.png',\n",
       " 'C108P69ThinF_IMG_20150924_225004_cell_8.png',\n",
       " 'C108P69ThinF_IMG_20150924_225511_cell_1.png',\n",
       " 'C108P69ThinF_IMG_20150924_225511_cell_10.png',\n",
       " 'C108P69ThinF_IMG_20150924_225511_cell_128.png',\n",
       " 'C108P69ThinF_IMG_20150924_225511_cell_135.png',\n",
       " 'C108P69ThinF_IMG_20150924_225511_cell_139.png',\n",
       " 'C108P69ThinF_IMG_20150924_225511_cell_145.png',\n",
       " 'C108P69ThinF_IMG_20150924_225511_cell_159.png',\n",
       " 'C108P69ThinF_IMG_20150924_225511_cell_160.png',\n",
       " 'C108P69ThinF_IMG_20150924_225511_cell_180.png',\n",
       " 'C108P69ThinF_IMG_20150924_225511_cell_24.png',\n",
       " 'C108P69ThinF_IMG_20150924_225511_cell_99.png',\n",
       " 'C109P70ThinF_IMG_20150930_102716_cell_162.png',\n",
       " 'C109P70ThinF_IMG_20150930_102716_cell_183.png',\n",
       " 'C109P70ThinF_IMG_20150930_102716_cell_30.png',\n",
       " 'C109P70ThinF_IMG_20150930_102716_cell_46.png',\n",
       " 'C109P70ThinF_IMG_20150930_102716_cell_49.png',\n",
       " 'C109P70ThinF_IMG_20150930_102716_cell_63.png',\n",
       " 'C109P70ThinF_IMG_20150930_102716_cell_86.png',\n",
       " 'C109P70ThinF_IMG_20150930_102716_cell_90.png',\n",
       " 'C109P70ThinF_IMG_20150930_102812_cell_135.png',\n",
       " 'C109P70ThinF_IMG_20150930_102812_cell_136.png',\n",
       " 'C109P70ThinF_IMG_20150930_102812_cell_154.png',\n",
       " 'C109P70ThinF_IMG_20150930_102812_cell_164.png',\n",
       " 'C109P70ThinF_IMG_20150930_102812_cell_36.png',\n",
       " 'C109P70ThinF_IMG_20150930_102812_cell_45.png',\n",
       " 'C109P70ThinF_IMG_20150930_102812_cell_50.png',\n",
       " 'C109P70ThinF_IMG_20150930_102812_cell_51.png',\n",
       " 'C109P70ThinF_IMG_20150930_102812_cell_67.png',\n",
       " 'C109P70ThinF_IMG_20150930_102812_cell_72.png',\n",
       " 'C109P70ThinF_IMG_20150930_102944_cell_121.png',\n",
       " 'C109P70ThinF_IMG_20150930_102944_cell_127.png',\n",
       " 'C109P70ThinF_IMG_20150930_102944_cell_138.png',\n",
       " 'C109P70ThinF_IMG_20150930_102944_cell_148.png',\n",
       " 'C109P70ThinF_IMG_20150930_102944_cell_152.png',\n",
       " 'C109P70ThinF_IMG_20150930_102944_cell_155.png',\n",
       " 'C109P70ThinF_IMG_20150930_102944_cell_33.png',\n",
       " 'C109P70ThinF_IMG_20150930_102944_cell_46.png',\n",
       " 'C109P70ThinF_IMG_20150930_102944_cell_70.png',\n",
       " 'C109P70ThinF_IMG_20150930_103113_cell_103.png',\n",
       " 'C109P70ThinF_IMG_20150930_103113_cell_104.png',\n",
       " 'C109P70ThinF_IMG_20150930_103113_cell_136.png',\n",
       " 'C109P70ThinF_IMG_20150930_103113_cell_137.png',\n",
       " 'C109P70ThinF_IMG_20150930_103113_cell_15.png',\n",
       " 'C109P70ThinF_IMG_20150930_103113_cell_3.png',\n",
       " 'C109P70ThinF_IMG_20150930_103113_cell_56.png',\n",
       " 'C109P70ThinF_IMG_20150930_103214_cell_124.png',\n",
       " 'C109P70ThinF_IMG_20150930_103214_cell_14.png',\n",
       " 'C109P70ThinF_IMG_20150930_103214_cell_148.png',\n",
       " 'C109P70ThinF_IMG_20150930_103214_cell_161.png',\n",
       " 'C109P70ThinF_IMG_20150930_103214_cell_38.png',\n",
       " 'C109P70ThinF_IMG_20150930_103214_cell_54.png',\n",
       " 'C109P70ThinF_IMG_20150930_103214_cell_75.png',\n",
       " 'C109P70ThinF_IMG_20150930_103214_cell_83.png',\n",
       " 'C109P70ThinF_IMG_20150930_103214_cell_85.png',\n",
       " 'C109P70ThinF_IMG_20150930_103645_cell_10.png',\n",
       " 'C109P70ThinF_IMG_20150930_103645_cell_146.png',\n",
       " 'C109P70ThinF_IMG_20150930_103645_cell_155.png',\n",
       " 'C109P70ThinF_IMG_20150930_103645_cell_165.png',\n",
       " 'C109P70ThinF_IMG_20150930_103645_cell_167.png',\n",
       " 'C109P70ThinF_IMG_20150930_103645_cell_25.png',\n",
       " 'C109P70ThinF_IMG_20150930_103645_cell_76.png',\n",
       " 'C109P70ThinF_IMG_20150930_103645_cell_87.png',\n",
       " 'C109P70ThinF_IMG_20150930_103811_cell_104.png',\n",
       " 'C109P70ThinF_IMG_20150930_103811_cell_114.png',\n",
       " 'C109P70ThinF_IMG_20150930_103811_cell_126.png',\n",
       " 'C109P70ThinF_IMG_20150930_103811_cell_130.png',\n",
       " 'C109P70ThinF_IMG_20150930_103811_cell_31.png',\n",
       " 'C109P70ThinF_IMG_20150930_103811_cell_37.png',\n",
       " 'C109P70ThinF_IMG_20150930_103811_cell_63.png',\n",
       " 'C109P70ThinF_IMG_20150930_103811_cell_65.png',\n",
       " 'C109P70ThinF_IMG_20150930_103811_cell_66.png',\n",
       " 'C109P70ThinF_IMG_20150930_103811_cell_71.png',\n",
       " 'C110P71ThinF_IMG_20150930_105319_cell_103.png',\n",
       " 'C110P71ThinF_IMG_20150930_105319_cell_135.png',\n",
       " 'C110P71ThinF_IMG_20150930_105319_cell_137.png',\n",
       " 'C110P71ThinF_IMG_20150930_105319_cell_144.png',\n",
       " 'C110P71ThinF_IMG_20150930_105319_cell_145.png',\n",
       " 'C110P71ThinF_IMG_20150930_105319_cell_158.png',\n",
       " 'C110P71ThinF_IMG_20150930_105319_cell_163.png',\n",
       " 'C110P71ThinF_IMG_20150930_105319_cell_37.png',\n",
       " 'C110P71ThinF_IMG_20150930_105319_cell_5.png',\n",
       " 'C110P71ThinF_IMG_20150930_105319_cell_94.png',\n",
       " 'C110P71ThinF_IMG_20150930_105319_cell_97.png',\n",
       " 'C110P71ThinF_IMG_20150930_105559_cell_115.png',\n",
       " 'C110P71ThinF_IMG_20150930_105559_cell_137.png',\n",
       " 'C110P71ThinF_IMG_20150930_105559_cell_147.png',\n",
       " 'C110P71ThinF_IMG_20150930_105559_cell_156.png',\n",
       " 'C110P71ThinF_IMG_20150930_105559_cell_185.png',\n",
       " 'C110P71ThinF_IMG_20150930_105559_cell_186.png',\n",
       " 'C110P71ThinF_IMG_20150930_105559_cell_192.png',\n",
       " 'C110P71ThinF_IMG_20150930_105559_cell_45.png',\n",
       " 'C110P71ThinF_IMG_20150930_105559_cell_97.png',\n",
       " 'C110P71ThinF_IMG_20150930_105729_cell_117.png',\n",
       " 'C110P71ThinF_IMG_20150930_105729_cell_121.png',\n",
       " 'C110P71ThinF_IMG_20150930_105729_cell_156.png',\n",
       " 'C110P71ThinF_IMG_20150930_105729_cell_162.png',\n",
       " 'C110P71ThinF_IMG_20150930_105729_cell_167.png',\n",
       " 'C110P71ThinF_IMG_20150930_105729_cell_18.png',\n",
       " 'C110P71ThinF_IMG_20150930_105729_cell_201.png',\n",
       " 'C110P71ThinF_IMG_20150930_105729_cell_206.png',\n",
       " 'C110P71ThinF_IMG_20150930_105729_cell_33.png',\n",
       " 'C110P71ThinF_IMG_20150930_105925_cell_111.png',\n",
       " 'C110P71ThinF_IMG_20150930_105925_cell_12.png',\n",
       " 'C110P71ThinF_IMG_20150930_105925_cell_120.png',\n",
       " 'C110P71ThinF_IMG_20150930_105925_cell_124.png',\n",
       " 'C110P71ThinF_IMG_20150930_105925_cell_163.png',\n",
       " 'C110P71ThinF_IMG_20150930_105925_cell_209.png',\n",
       " 'C110P71ThinF_IMG_20150930_105925_cell_28.png',\n",
       " 'C110P71ThinF_IMG_20150930_105925_cell_40.png',\n",
       " 'C110P71ThinF_IMG_20150930_105925_cell_72.png',\n",
       " 'C110P71ThinF_IMG_20150930_105925_cell_86.png',\n",
       " 'C110P71ThinF_IMG_20150930_110052_cell_119.png',\n",
       " 'C110P71ThinF_IMG_20150930_110052_cell_130.png',\n",
       " 'C110P71ThinF_IMG_20150930_110052_cell_149.png',\n",
       " 'C110P71ThinF_IMG_20150930_110052_cell_166.png',\n",
       " 'C110P71ThinF_IMG_20150930_110052_cell_190.png',\n",
       " 'C110P71ThinF_IMG_20150930_110052_cell_196.png',\n",
       " 'C110P71ThinF_IMG_20150930_110052_cell_198.png',\n",
       " 'C110P71ThinF_IMG_20150930_110052_cell_20.png',\n",
       " 'C110P71ThinF_IMG_20150930_110052_cell_28.png',\n",
       " 'C110P71ThinF_IMG_20150930_110052_cell_54.png',\n",
       " 'C110P71ThinF_IMG_20150930_110052_cell_75.png',\n",
       " 'C110P71ThinF_IMG_20150930_110052_cell_83.png',\n",
       " 'C110P71ThinF_IMG_20150930_110404_cell_100.png',\n",
       " 'C110P71ThinF_IMG_20150930_110404_cell_117.png',\n",
       " 'C110P71ThinF_IMG_20150930_110404_cell_126.png',\n",
       " 'C110P71ThinF_IMG_20150930_110404_cell_13.png',\n",
       " 'C110P71ThinF_IMG_20150930_110404_cell_18.png',\n",
       " 'C110P71ThinF_IMG_20150930_110404_cell_30.png',\n",
       " 'C110P71ThinF_IMG_20150930_110404_cell_32.png',\n",
       " 'C110P71ThinF_IMG_20150930_110404_cell_70.png',\n",
       " 'C110P71ThinF_IMG_20150930_110404_cell_76.png',\n",
       " 'C110P71ThinF_IMG_20150930_110404_cell_8.png',\n",
       " 'C111P72ThinF_IMG_20150930_112430_cell_107.png',\n",
       " 'C111P72ThinF_IMG_20150930_112430_cell_114.png',\n",
       " 'C111P72ThinF_IMG_20150930_112430_cell_119.png',\n",
       " 'C111P72ThinF_IMG_20150930_112430_cell_161.png',\n",
       " 'C111P72ThinF_IMG_20150930_112430_cell_173.png',\n",
       " 'C111P72ThinF_IMG_20150930_112430_cell_175.png',\n",
       " 'C111P72ThinF_IMG_20150930_112430_cell_186.png',\n",
       " 'C111P72ThinF_IMG_20150930_112430_cell_45.png',\n",
       " 'C111P72ThinF_IMG_20150930_112609_cell_103.png',\n",
       " 'C111P72ThinF_IMG_20150930_112609_cell_107.png',\n",
       " 'C111P72ThinF_IMG_20150930_112609_cell_122.png',\n",
       " 'C111P72ThinF_IMG_20150930_112609_cell_155.png',\n",
       " 'C111P72ThinF_IMG_20150930_112609_cell_161.png',\n",
       " 'C111P72ThinF_IMG_20150930_112609_cell_55.png',\n",
       " 'C111P72ThinF_IMG_20150930_112609_cell_56.png',\n",
       " 'C111P72ThinF_IMG_20150930_112609_cell_69.png',\n",
       " 'C111P72ThinF_IMG_20150930_112609_cell_88.png',\n",
       " 'C111P72ThinF_IMG_20150930_112827_cell_1.png',\n",
       " 'C111P72ThinF_IMG_20150930_112827_cell_128.png',\n",
       " 'C111P72ThinF_IMG_20150930_112827_cell_141.png',\n",
       " 'C111P72ThinF_IMG_20150930_112827_cell_144.png',\n",
       " 'C111P72ThinF_IMG_20150930_112827_cell_15.png',\n",
       " 'C111P72ThinF_IMG_20150930_112827_cell_164.png',\n",
       " 'C111P72ThinF_IMG_20150930_112827_cell_37.png',\n",
       " 'C111P72ThinF_IMG_20150930_112827_cell_41.png',\n",
       " 'C111P72ThinF_IMG_20150930_112827_cell_64.png',\n",
       " 'C111P72ThinF_IMG_20150930_113003_cell_106.png',\n",
       " 'C111P72ThinF_IMG_20150930_113003_cell_125.png',\n",
       " 'C111P72ThinF_IMG_20150930_113003_cell_135.png',\n",
       " 'C111P72ThinF_IMG_20150930_113003_cell_136.png',\n",
       " 'C111P72ThinF_IMG_20150930_113003_cell_144.png',\n",
       " 'C111P72ThinF_IMG_20150930_113003_cell_156.png',\n",
       " 'C111P72ThinF_IMG_20150930_113003_cell_16.png',\n",
       " 'C111P72ThinF_IMG_20150930_113003_cell_41.png',\n",
       " 'C111P72ThinF_IMG_20150930_113003_cell_50.png',\n",
       " 'C111P72ThinF_IMG_20150930_113003_cell_75.png',\n",
       " 'C111P72ThinF_IMG_20150930_113049_cell_102.png',\n",
       " 'C111P72ThinF_IMG_20150930_113049_cell_12.png',\n",
       " 'C111P72ThinF_IMG_20150930_113049_cell_144.png',\n",
       " 'C111P72ThinF_IMG_20150930_113049_cell_2.png',\n",
       " 'C111P72ThinF_IMG_20150930_113049_cell_20.png',\n",
       " 'C111P72ThinF_IMG_20150930_113049_cell_30.png',\n",
       " 'C111P72ThinF_IMG_20150930_113049_cell_37.png',\n",
       " 'C111P72ThinF_IMG_20150930_113049_cell_66.png',\n",
       " 'C111P72ThinF_IMG_20150930_113049_cell_71.png',\n",
       " 'C111P72ThinF_IMG_20150930_113210_cell_145.png',\n",
       " 'C111P72ThinF_IMG_20150930_113210_cell_153.png',\n",
       " 'C111P72ThinF_IMG_20150930_113210_cell_160.png',\n",
       " 'C111P72ThinF_IMG_20150930_113210_cell_164.png',\n",
       " 'C111P72ThinF_IMG_20150930_113210_cell_18.png',\n",
       " 'C111P72ThinF_IMG_20150930_113210_cell_34.png',\n",
       " 'C111P72ThinF_IMG_20150930_113210_cell_4.png',\n",
       " 'C111P72ThinF_IMG_20150930_113210_cell_41.png',\n",
       " 'C111P72ThinF_IMG_20150930_113210_cell_45.png',\n",
       " 'C111P72ThinF_IMG_20150930_113610_cell_128.png',\n",
       " 'C111P72ThinF_IMG_20150930_113610_cell_134.png',\n",
       " 'C111P72ThinF_IMG_20150930_113610_cell_169.png',\n",
       " 'C111P72ThinF_IMG_20150930_113610_cell_196.png',\n",
       " 'C111P72ThinF_IMG_20150930_113610_cell_198.png',\n",
       " 'C111P72ThinF_IMG_20150930_113610_cell_29.png',\n",
       " 'C111P72ThinF_IMG_20150930_113610_cell_62.png',\n",
       " 'C111P72ThinF_IMG_20150930_113610_cell_9.png',\n",
       " 'C111P72ThinF_IMG_20150930_113610_cell_98.png',\n",
       " 'C111P72ThinF_IMG_20150930_113610_cell_99.png',\n",
       " 'C112P73ThinF_IMG_20150930_131254_cell_126.png',\n",
       " 'C112P73ThinF_IMG_20150930_131254_cell_137.png',\n",
       " 'C112P73ThinF_IMG_20150930_131254_cell_155.png',\n",
       " 'C112P73ThinF_IMG_20150930_131254_cell_167.png',\n",
       " 'C112P73ThinF_IMG_20150930_131254_cell_30.png',\n",
       " 'C112P73ThinF_IMG_20150930_131254_cell_37.png',\n",
       " 'C112P73ThinF_IMG_20150930_131254_cell_4.png',\n",
       " 'C112P73ThinF_IMG_20150930_131254_cell_46.png',\n",
       " 'C112P73ThinF_IMG_20150930_131254_cell_93.png',\n",
       " 'C112P73ThinF_IMG_20150930_131401_cell_14.png',\n",
       " 'C112P73ThinF_IMG_20150930_131401_cell_152.png',\n",
       " 'C112P73ThinF_IMG_20150930_131401_cell_160.png',\n",
       " 'C112P73ThinF_IMG_20150930_131401_cell_49.png',\n",
       " 'C112P73ThinF_IMG_20150930_131401_cell_62.png',\n",
       " 'C112P73ThinF_IMG_20150930_131401_cell_95.png',\n",
       " 'C112P73ThinF_IMG_20150930_131516_cell_1.png',\n",
       " 'C112P73ThinF_IMG_20150930_131516_cell_108.png',\n",
       " 'C112P73ThinF_IMG_20150930_131516_cell_109.png',\n",
       " 'C112P73ThinF_IMG_20150930_131516_cell_112.png',\n",
       " 'C112P73ThinF_IMG_20150930_131516_cell_119.png',\n",
       " 'C112P73ThinF_IMG_20150930_131516_cell_125.png',\n",
       " 'C112P73ThinF_IMG_20150930_131516_cell_156.png',\n",
       " 'C112P73ThinF_IMG_20150930_131516_cell_157.png',\n",
       " 'C112P73ThinF_IMG_20150930_131516_cell_57.png',\n",
       " 'C112P73ThinF_IMG_20150930_131516_cell_76.png',\n",
       " 'C112P73ThinF_IMG_20150930_131516_cell_93.png',\n",
       " 'C112P73ThinF_IMG_20150930_131605_cell_111.png',\n",
       " 'C112P73ThinF_IMG_20150930_131605_cell_117.png',\n",
       " 'C112P73ThinF_IMG_20150930_131605_cell_121.png',\n",
       " 'C112P73ThinF_IMG_20150930_131605_cell_142.png',\n",
       " 'C112P73ThinF_IMG_20150930_131605_cell_143.png',\n",
       " 'C112P73ThinF_IMG_20150930_131605_cell_146.png',\n",
       " 'C112P73ThinF_IMG_20150930_131605_cell_165.png',\n",
       " 'C112P73ThinF_IMG_20150930_131605_cell_176.png',\n",
       " 'C112P73ThinF_IMG_20150930_131605_cell_98.png',\n",
       " 'C112P73ThinF_IMG_20150930_131659_cell_125.png',\n",
       " 'C112P73ThinF_IMG_20150930_131659_cell_137.png',\n",
       " 'C112P73ThinF_IMG_20150930_131659_cell_143.png',\n",
       " 'C112P73ThinF_IMG_20150930_131659_cell_151.png',\n",
       " 'C112P73ThinF_IMG_20150930_131659_cell_190.png',\n",
       " 'C112P73ThinF_IMG_20150930_131659_cell_44.png',\n",
       " 'C112P73ThinF_IMG_20150930_131659_cell_54.png',\n",
       " 'C112P73ThinF_IMG_20150930_131659_cell_94.png',\n",
       " 'C112P73ThinF_IMG_20150930_131753_cell_104.png',\n",
       " 'C112P73ThinF_IMG_20150930_131753_cell_107.png',\n",
       " 'C112P73ThinF_IMG_20150930_131753_cell_22.png',\n",
       " 'C112P73ThinF_IMG_20150930_131753_cell_32.png',\n",
       " 'C112P73ThinF_IMG_20150930_131753_cell_60.png',\n",
       " 'C112P73ThinF_IMG_20150930_131753_cell_66.png',\n",
       " 'C112P73ThinF_IMG_20150930_131753_cell_72.png',\n",
       " 'C112P73ThinF_IMG_20150930_131753_cell_80.png',\n",
       " 'C112P73ThinF_IMG_20150930_131900_cell_111.png',\n",
       " 'C112P73ThinF_IMG_20150930_131900_cell_167.png',\n",
       " 'C112P73ThinF_IMG_20150930_131900_cell_172.png',\n",
       " 'C112P73ThinF_IMG_20150930_131900_cell_46.png',\n",
       " 'C112P73ThinF_IMG_20150930_131900_cell_62.png',\n",
       " 'C112P73ThinF_IMG_20150930_131900_cell_95.png',\n",
       " 'C113P74ThinF_IMG_20150930_134355_cell_117.png',\n",
       " 'C113P74ThinF_IMG_20150930_134355_cell_129.png',\n",
       " 'C113P74ThinF_IMG_20150930_134355_cell_16.png',\n",
       " 'C113P74ThinF_IMG_20150930_134355_cell_24.png',\n",
       " 'C113P74ThinF_IMG_20150930_134355_cell_42.png',\n",
       " 'C113P74ThinF_IMG_20150930_134355_cell_5.png',\n",
       " 'C113P74ThinF_IMG_20150930_134355_cell_77.png',\n",
       " 'C113P74ThinF_IMG_20150930_134355_cell_89.png',\n",
       " 'C113P74ThinF_IMG_20150930_134429_cell_114.png',\n",
       " 'C113P74ThinF_IMG_20150930_134429_cell_127.png',\n",
       " 'C113P74ThinF_IMG_20150930_134429_cell_152.png',\n",
       " 'C113P74ThinF_IMG_20150930_134429_cell_16.png',\n",
       " 'C113P74ThinF_IMG_20150930_134429_cell_31.png',\n",
       " 'C113P74ThinF_IMG_20150930_134429_cell_32.png',\n",
       " 'C113P74ThinF_IMG_20150930_134614_cell_138.png',\n",
       " 'C113P74ThinF_IMG_20150930_134614_cell_157.png',\n",
       " 'C113P74ThinF_IMG_20150930_134614_cell_4.png',\n",
       " 'C113P74ThinF_IMG_20150930_134614_cell_61.png',\n",
       " 'C113P74ThinF_IMG_20150930_134614_cell_78.png',\n",
       " 'C113P74ThinF_IMG_20150930_134614_cell_8.png',\n",
       " 'C113P74ThinF_IMG_20150930_134614_cell_81.png',\n",
       " 'C113P74ThinF_IMG_20150930_134614_cell_90.png',\n",
       " 'C113P74ThinF_IMG_20150930_134751_cell_105.png',\n",
       " 'C113P74ThinF_IMG_20150930_134751_cell_132.png',\n",
       " 'C113P74ThinF_IMG_20150930_134751_cell_149.png',\n",
       " 'C113P74ThinF_IMG_20150930_134751_cell_164.png',\n",
       " 'C113P74ThinF_IMG_20150930_134751_cell_30.png',\n",
       " 'C113P74ThinF_IMG_20150930_134751_cell_51.png',\n",
       " 'C113P74ThinF_IMG_20150930_134751_cell_57.png',\n",
       " 'C113P74ThinF_IMG_20150930_134751_cell_61.png',\n",
       " 'C113P74ThinF_IMG_20150930_134751_cell_83.png',\n",
       " 'C113P74ThinF_IMG_20150930_134751_cell_87.png',\n",
       " 'C113P74ThinF_IMG_20150930_134949_cell_108.png',\n",
       " 'C113P74ThinF_IMG_20150930_134949_cell_11.png',\n",
       " 'C113P74ThinF_IMG_20150930_134949_cell_129.png',\n",
       " 'C113P74ThinF_IMG_20150930_134949_cell_135.png',\n",
       " 'C113P74ThinF_IMG_20150930_134949_cell_157.png',\n",
       " 'C113P74ThinF_IMG_20150930_134949_cell_36.png',\n",
       " 'C113P74ThinF_IMG_20150930_134949_cell_38.png',\n",
       " 'C113P74ThinF_IMG_20150930_134949_cell_47.png',\n",
       " 'C113P74ThinF_IMG_20150930_134949_cell_60.png',\n",
       " 'C113P74ThinF_IMG_20150930_134949_cell_77.png',\n",
       " 'C113P74ThinF_IMG_20150930_135904_cell_126.png',\n",
       " 'C113P74ThinF_IMG_20150930_135904_cell_129.png',\n",
       " 'C113P74ThinF_IMG_20150930_135904_cell_147.png',\n",
       " 'C113P74ThinF_IMG_20150930_135904_cell_162.png',\n",
       " 'C113P74ThinF_IMG_20150930_135904_cell_18.png',\n",
       " 'C113P74ThinF_IMG_20150930_135904_cell_23.png',\n",
       " 'C113P74ThinF_IMG_20150930_135904_cell_25.png',\n",
       " 'C113P74ThinF_IMG_20150930_135904_cell_46.png',\n",
       " 'C113P74ThinF_IMG_20150930_135904_cell_60.png',\n",
       " 'C113P74ThinF_IMG_20150930_135904_cell_94.png',\n",
       " 'C113P74ThinF_IMG_20150930_140646_cell_111.png',\n",
       " 'C113P74ThinF_IMG_20150930_140646_cell_122.png',\n",
       " 'C113P74ThinF_IMG_20150930_140646_cell_147.png',\n",
       " 'C113P74ThinF_IMG_20150930_140646_cell_161.png',\n",
       " 'C113P74ThinF_IMG_20150930_140646_cell_28.png',\n",
       " 'C113P74ThinF_IMG_20150930_140646_cell_31.png',\n",
       " 'C113P74ThinF_IMG_20150930_140646_cell_52.png',\n",
       " 'C113P74ThinF_IMG_20150930_140646_cell_96.png',\n",
       " 'C114P75ThinF_IMG_20150930_150013_cell_102.png',\n",
       " 'C114P75ThinF_IMG_20150930_150013_cell_104.png',\n",
       " 'C114P75ThinF_IMG_20150930_150013_cell_107.png',\n",
       " 'C114P75ThinF_IMG_20150930_150013_cell_117.png',\n",
       " 'C114P75ThinF_IMG_20150930_150013_cell_130.png',\n",
       " 'C114P75ThinF_IMG_20150930_150013_cell_192.png',\n",
       " 'C114P75ThinF_IMG_20150930_150013_cell_68.png',\n",
       " 'C114P75ThinF_IMG_20150930_150057_cell_103.png',\n",
       " 'C114P75ThinF_IMG_20150930_150057_cell_113.png',\n",
       " 'C114P75ThinF_IMG_20150930_150057_cell_125.png',\n",
       " 'C114P75ThinF_IMG_20150930_150057_cell_139.png',\n",
       " 'C114P75ThinF_IMG_20150930_150057_cell_160.png',\n",
       " 'C114P75ThinF_IMG_20150930_150057_cell_22.png',\n",
       " 'C114P75ThinF_IMG_20150930_150057_cell_48.png',\n",
       " 'C114P75ThinF_IMG_20150930_150057_cell_93.png',\n",
       " 'C114P75ThinF_IMG_20150930_150145_cell_11.png',\n",
       " 'C114P75ThinF_IMG_20150930_150145_cell_111.png',\n",
       " 'C114P75ThinF_IMG_20150930_150145_cell_123.png',\n",
       " 'C114P75ThinF_IMG_20150930_150145_cell_154.png',\n",
       " 'C114P75ThinF_IMG_20150930_150145_cell_29.png',\n",
       " 'C114P75ThinF_IMG_20150930_150145_cell_40.png',\n",
       " 'C114P75ThinF_IMG_20150930_150145_cell_48.png',\n",
       " 'C114P75ThinF_IMG_20150930_150145_cell_6.png',\n",
       " 'C114P75ThinF_IMG_20150930_150145_cell_77.png',\n",
       " 'C114P75ThinF_IMG_20150930_150555_cell_102.png',\n",
       " 'C114P75ThinF_IMG_20150930_150555_cell_127.png',\n",
       " 'C114P75ThinF_IMG_20150930_150555_cell_129.png',\n",
       " 'C114P75ThinF_IMG_20150930_150555_cell_141.png',\n",
       " 'C114P75ThinF_IMG_20150930_150555_cell_24.png',\n",
       " 'C114P75ThinF_IMG_20150930_150555_cell_32.png',\n",
       " 'C114P75ThinF_IMG_20150930_150555_cell_46.png',\n",
       " 'C114P75ThinF_IMG_20150930_150555_cell_6.png',\n",
       " 'C114P75ThinF_IMG_20150930_150555_cell_78.png',\n",
       " 'C114P75ThinF_IMG_20150930_150555_cell_87.png',\n",
       " 'C114P75ThinF_IMG_20150930_150733_cell_116.png',\n",
       " 'C114P75ThinF_IMG_20150930_150733_cell_120.png',\n",
       " 'C114P75ThinF_IMG_20150930_150733_cell_127.png',\n",
       " 'C114P75ThinF_IMG_20150930_150733_cell_19.png',\n",
       " 'C114P75ThinF_IMG_20150930_150733_cell_21.png',\n",
       " 'C114P75ThinF_IMG_20150930_150733_cell_5.png',\n",
       " 'C114P75ThinF_IMG_20150930_150733_cell_62.png',\n",
       " 'C114P75ThinF_IMG_20150930_150733_cell_7.png',\n",
       " 'C114P75ThinF_IMG_20150930_150733_cell_76.png',\n",
       " 'C114P75ThinF_IMG_20150930_150733_cell_80.png',\n",
       " 'C114P75ThinF_IMG_20150930_150833_cell_100.png',\n",
       " 'C114P75ThinF_IMG_20150930_150833_cell_103.png',\n",
       " 'C114P75ThinF_IMG_20150930_150833_cell_140.png',\n",
       " 'C114P75ThinF_IMG_20150930_150833_cell_23.png',\n",
       " 'C114P75ThinF_IMG_20150930_150833_cell_26.png',\n",
       " 'C114P75ThinF_IMG_20150930_150833_cell_34.png',\n",
       " 'C114P75ThinF_IMG_20150930_150833_cell_36.png',\n",
       " 'C114P75ThinF_IMG_20150930_150833_cell_58.png',\n",
       " 'C114P75ThinF_IMG_20150930_150833_cell_73.png',\n",
       " 'C114P75ThinF_IMG_20150930_151150_cell_104.png',\n",
       " 'C114P75ThinF_IMG_20150930_151150_cell_111.png',\n",
       " 'C114P75ThinF_IMG_20150930_151150_cell_153.png',\n",
       " 'C114P75ThinF_IMG_20150930_151150_cell_19.png',\n",
       " 'C114P75ThinF_IMG_20150930_151150_cell_24.png',\n",
       " 'C114P75ThinF_IMG_20150930_151150_cell_37.png',\n",
       " 'C114P75ThinF_IMG_20150930_151150_cell_48.png',\n",
       " 'C114P75ThinF_IMG_20150930_151150_cell_74.png',\n",
       " 'C115P76ThinF_IMG_20150930_161825_cell_108.png',\n",
       " 'C115P76ThinF_IMG_20150930_161825_cell_119.png',\n",
       " 'C115P76ThinF_IMG_20150930_161825_cell_125.png',\n",
       " 'C115P76ThinF_IMG_20150930_161825_cell_126.png',\n",
       " 'C115P76ThinF_IMG_20150930_161825_cell_128.png',\n",
       " 'C115P76ThinF_IMG_20150930_161825_cell_167.png',\n",
       " 'C115P76ThinF_IMG_20150930_161825_cell_191.png',\n",
       " 'C115P76ThinF_IMG_20150930_161825_cell_198.png',\n",
       " 'C115P76ThinF_IMG_20150930_161825_cell_2.png',\n",
       " 'C115P76ThinF_IMG_20150930_161825_cell_25.png',\n",
       " 'C115P76ThinF_IMG_20150930_161825_cell_51.png',\n",
       " 'C115P76ThinF_IMG_20150930_161825_cell_94.png',\n",
       " 'C115P76ThinF_IMG_20150930_162038_cell_121.png',\n",
       " 'C115P76ThinF_IMG_20150930_162038_cell_15.png',\n",
       " 'C115P76ThinF_IMG_20150930_162038_cell_156.png',\n",
       " 'C115P76ThinF_IMG_20150930_162038_cell_167.png',\n",
       " 'C115P76ThinF_IMG_20150930_162038_cell_171.png',\n",
       " 'C115P76ThinF_IMG_20150930_162038_cell_18.png',\n",
       " 'C115P76ThinF_IMG_20150930_162038_cell_183.png',\n",
       " 'C115P76ThinF_IMG_20150930_162038_cell_198.png',\n",
       " 'C115P76ThinF_IMG_20150930_162038_cell_25.png',\n",
       " 'C115P76ThinF_IMG_20150930_162038_cell_36.png',\n",
       " 'C115P76ThinF_IMG_20150930_162038_cell_62.png',\n",
       " 'C115P76ThinF_IMG_20150930_162038_cell_68.png',\n",
       " 'C115P76ThinF_IMG_20150930_162038_cell_9.png',\n",
       " 'C115P76ThinF_IMG_20150930_162315_cell_151.png',\n",
       " 'C115P76ThinF_IMG_20150930_162315_cell_215.png',\n",
       " 'C115P76ThinF_IMG_20150930_162315_cell_218.png',\n",
       " 'C115P76ThinF_IMG_20150930_162315_cell_230.png',\n",
       " 'C115P76ThinF_IMG_20150930_162315_cell_243.png',\n",
       " 'C115P76ThinF_IMG_20150930_162315_cell_25.png',\n",
       " 'C115P76ThinF_IMG_20150930_162315_cell_254.png',\n",
       " 'C115P76ThinF_IMG_20150930_162315_cell_45.png',\n",
       " 'C115P76ThinF_IMG_20150930_162315_cell_9.png',\n",
       " 'C115P76ThinF_IMG_20150930_162315_cell_91.png',\n",
       " 'C115P76ThinF_IMG_20150930_162315_cell_99.png',\n",
       " 'C115P76ThinF_IMG_20150930_163018_cell_103.png',\n",
       " 'C115P76ThinF_IMG_20150930_163018_cell_113.png',\n",
       " 'C115P76ThinF_IMG_20150930_163018_cell_123.png',\n",
       " 'C115P76ThinF_IMG_20150930_163018_cell_147.png',\n",
       " 'C115P76ThinF_IMG_20150930_163018_cell_157.png',\n",
       " 'C115P76ThinF_IMG_20150930_163018_cell_177.png',\n",
       " 'C115P76ThinF_IMG_20150930_163018_cell_187.png',\n",
       " 'C115P76ThinF_IMG_20150930_163018_cell_208.png',\n",
       " 'C115P76ThinF_IMG_20150930_163018_cell_211.png',\n",
       " 'C115P76ThinF_IMG_20150930_163018_cell_221.png',\n",
       " 'C115P76ThinF_IMG_20150930_163018_cell_232.png',\n",
       " 'C115P76ThinF_IMG_20150930_163018_cell_36.png',\n",
       " 'C115P76ThinF_IMG_20150930_163156_cell_163.png',\n",
       " 'C115P76ThinF_IMG_20150930_163156_cell_197.png',\n",
       " 'C115P76ThinF_IMG_20150930_163156_cell_204.png',\n",
       " 'C115P76ThinF_IMG_20150930_163156_cell_214.png',\n",
       " 'C115P76ThinF_IMG_20150930_163156_cell_221.png',\n",
       " 'C115P76ThinF_IMG_20150930_163156_cell_229.png',\n",
       " 'C115P76ThinF_IMG_20150930_163156_cell_25.png',\n",
       " 'C115P76ThinF_IMG_20150930_163156_cell_75.png',\n",
       " 'C115P76ThinF_IMG_20150930_163156_cell_76.png',\n",
       " 'C115P76ThinF_IMG_20150930_163156_cell_80.png',\n",
       " 'C115P76ThinF_IMG_20150930_163156_cell_85.png',\n",
       " 'C115P76ThinF_IMG_20150930_163156_cell_90.png',\n",
       " 'C116P77ThinF_IMG_20150930_171219_cell_10.png',\n",
       " 'C116P77ThinF_IMG_20150930_171219_cell_21.png',\n",
       " 'C116P77ThinF_IMG_20150930_171219_cell_33.png',\n",
       " 'C116P77ThinF_IMG_20150930_171219_cell_34.png',\n",
       " 'C116P77ThinF_IMG_20150930_171219_cell_39.png',\n",
       " 'C116P77ThinF_IMG_20150930_171219_cell_6.png',\n",
       " 'C116P77ThinF_IMG_20150930_171219_cell_65.png',\n",
       " 'C116P77ThinF_IMG_20150930_171219_cell_69.png',\n",
       " 'C116P77ThinF_IMG_20150930_171448_cell_39.png',\n",
       " 'C116P77ThinF_IMG_20150930_171448_cell_48.png',\n",
       " 'C116P77ThinF_IMG_20150930_171448_cell_53.png',\n",
       " 'C116P77ThinF_IMG_20150930_171448_cell_7.png',\n",
       " 'C116P77ThinF_IMG_20150930_171448_cell_72.png',\n",
       " 'C116P77ThinF_IMG_20150930_171448_cell_81.png',\n",
       " ...]"
      ]
     },
     "execution_count": 42,
     "metadata": {},
     "output_type": "execute_result"
    }
   ],
   "source": [
    "os.listdir(train_path + 'uninfected\\\\')"
   ]
  },
  {
   "cell_type": "code",
   "execution_count": 43,
   "metadata": {},
   "outputs": [],
   "source": [
    "nd_cell = train_path + 'uninfected\\\\' + 'C100P61ThinF_IMG_20150918_144104_cell_21.png'"
   ]
  },
  {
   "cell_type": "code",
   "execution_count": 44,
   "metadata": {},
   "outputs": [
    {
     "data": {
      "text/plain": [
       "<matplotlib.image.AxesImage at 0x28bcea29c88>"
      ]
     },
     "execution_count": 44,
     "metadata": {},
     "output_type": "execute_result"
    },
    {
     "data": {
      "image/png": "[encoded data removed]",
      "text/plain": [
       "<Figure size 432x288 with 1 Axes>"
      ]
     },
     "metadata": {
      "needs_background": "light"
     },
     "output_type": "display_data"
    }
   ],
   "source": [
    "plt.imshow(imread(nd_cell))"
   ]
  },
  {
   "cell_type": "code",
   "execution_count": 45,
   "metadata": {},
   "outputs": [
    {
     "data": {
      "text/plain": [
       "(112, 100, 3)"
      ]
     },
     "execution_count": 45,
     "metadata": {},
     "output_type": "execute_result"
    }
   ],
   "source": [
    "imread(nd_cell).shape"
   ]
  },
  {
   "cell_type": "code",
   "execution_count": 47,
   "metadata": {},
   "outputs": [],
   "source": [
    "# pwd"
   ]
  },
  {
   "cell_type": "code",
   "execution_count": 49,
   "metadata": {},
   "outputs": [
    {
     "data": {
      "text/plain": [
       "12480"
      ]
     },
     "execution_count": 49,
     "metadata": {},
     "output_type": "execute_result"
    }
   ],
   "source": [
    "len(os.listdir(train_path + 'parasitized'))"
   ]
  },
  {
   "cell_type": "code",
   "execution_count": 52,
   "metadata": {},
   "outputs": [
    {
     "data": {
      "text/plain": [
       "1300"
      ]
     },
     "execution_count": 52,
     "metadata": {},
     "output_type": "execute_result"
    }
   ],
   "source": [
    "len(os.listdir(test_path + 'parasitized'))"
   ]
  },
  {
   "cell_type": "code",
   "execution_count": 53,
   "metadata": {},
   "outputs": [],
   "source": [
    "# Different Dimensions in images"
   ]
  },
  {
   "cell_type": "code",
   "execution_count": 54,
   "metadata": {},
   "outputs": [],
   "source": [
    "dim1 = []\n",
    "dim2 = []\n",
    "\n",
    "for img_filename in os.listdir(test_path + 'uninfected\\\\'):\n",
    "    img = imread(test_path + 'uninfected\\\\' + img_filename)\n",
    "    d1, d2, colors = img.shape\n",
    "    dim1.append(d1)\n",
    "    dim2.append(d2)"
   ]
  },
  {
   "cell_type": "code",
   "execution_count": null,
   "metadata": {},
   "outputs": [],
   "source": []
  },
  {
   "cell_type": "code",
   "execution_count": 66,
   "metadata": {},
   "outputs": [
    {
     "data": {
      "text/plain": [
       "<seaborn.axisgrid.JointGrid at 0x28bd18d7f08>"
      ]
     },
     "execution_count": 66,
     "metadata": {},
     "output_type": "execute_result"
    },
    {
     "data": {
      "image/png": "[encoded data removed]",
      "text/plain": [
       "<Figure size 432x432 with 3 Axes>"
      ]
     },
     "metadata": {
      "needs_background": "light"
     },
     "output_type": "display_data"
    }
   ],
   "source": [
    "sns.jointplot(dim1, dim2, color='r')"
   ]
  },
  {
   "cell_type": "code",
   "execution_count": 61,
   "metadata": {},
   "outputs": [
    {
     "data": {
      "text/plain": [
       "130.92538461538462"
      ]
     },
     "execution_count": 61,
     "metadata": {},
     "output_type": "execute_result"
    }
   ],
   "source": [
    "np.mean(dim1)"
   ]
  },
  {
   "cell_type": "code",
   "execution_count": 62,
   "metadata": {},
   "outputs": [
    {
     "data": {
      "text/plain": [
       "130.75"
      ]
     },
     "execution_count": 62,
     "metadata": {},
     "output_type": "execute_result"
    }
   ],
   "source": [
    "np.mean(dim2)"
   ]
  },
  {
   "cell_type": "code",
   "execution_count": 101,
   "metadata": {},
   "outputs": [],
   "source": [
    "image_shape = (130, 130, 3)"
   ]
  },
  {
   "cell_type": "code",
   "execution_count": 68,
   "metadata": {},
   "outputs": [
    {
     "data": {
      "text/plain": [
       "784"
      ]
     },
     "execution_count": 68,
     "metadata": {},
     "output_type": "execute_result"
    }
   ],
   "source": [
    "28*28\n",
    "# MNIST"
   ]
  },
  {
   "cell_type": "code",
   "execution_count": 69,
   "metadata": {},
   "outputs": [
    {
     "data": {
      "text/plain": [
       "3072"
      ]
     },
     "execution_count": 69,
     "metadata": {},
     "output_type": "execute_result"
    }
   ],
   "source": [
    "32*32*3\n",
    "# CIFAR"
   ]
  },
  {
   "cell_type": "code",
   "execution_count": 70,
   "metadata": {},
   "outputs": [
    {
     "data": {
      "text/plain": [
       "50700"
      ]
     },
     "execution_count": 70,
     "metadata": {},
     "output_type": "execute_result"
    }
   ],
   "source": [
    "130*130*3"
   ]
  },
  {
   "cell_type": "code",
   "execution_count": 71,
   "metadata": {},
   "outputs": [],
   "source": [
    "# Batches will be used since data is huge  |   The data will be looped over (in batches).\n"
   ]
  },
  {
   "cell_type": "code",
   "execution_count": 72,
   "metadata": {},
   "outputs": [],
   "source": [
    "from tensorflow.keras.preprocessing.image import ImageDataGenerator"
   ]
  },
  {
   "cell_type": "code",
   "execution_count": 74,
   "metadata": {
    "collapsed": true
   },
   "outputs": [
    {
     "name": "stdout",
     "output_type": "stream",
     "text": [
      "Help on class ImageDataGenerator in module tensorflow.python.keras.preprocessing.image:\n",
      "\n",
      "class ImageDataGenerator(keras_preprocessing.image.image_data_generator.ImageDataGenerator)\n",
      " |  ImageDataGenerator(featurewise_center=False, samplewise_center=False, featurewise_std_normalization=False, samplewise_std_normalization=False, zca_whitening=False, zca_epsilon=1e-06, rotation_range=0, width_shift_range=0.0, height_shift_range=0.0, brightness_range=None, shear_range=0.0, zoom_range=0.0, channel_shift_range=0.0, fill_mode='nearest', cval=0.0, horizontal_flip=False, vertical_flip=False, rescale=None, preprocessing_function=None, data_format=None, validation_split=0.0, dtype=None)\n",
      " |  \n",
      " |  Generate batches of tensor image data with real-time data augmentation.\n",
      " |  \n",
      " |   The data will be looped over (in batches).\n",
      " |  \n",
      " |  Arguments:\n",
      " |      featurewise_center: Boolean.\n",
      " |          Set input mean to 0 over the dataset, feature-wise.\n",
      " |      samplewise_center: Boolean. Set each sample mean to 0.\n",
      " |      featurewise_std_normalization: Boolean.\n",
      " |          Divide inputs by std of the dataset, feature-wise.\n",
      " |      samplewise_std_normalization: Boolean. Divide each input by its std.\n",
      " |      zca_epsilon: epsilon for ZCA whitening. Default is 1e-6.\n",
      " |      zca_whitening: Boolean. Apply ZCA whitening.\n",
      " |      rotation_range: Int. Degree range for random rotations.\n",
      " |      width_shift_range: Float, 1-D array-like or int\n",
      " |          - float: fraction of total width, if < 1, or pixels if >= 1.\n",
      " |          - 1-D array-like: random elements from the array.\n",
      " |          - int: integer number of pixels from interval\n",
      " |              `(-width_shift_range, +width_shift_range)`\n",
      " |          - With `width_shift_range=2` possible values\n",
      " |              are integers `[-1, 0, +1]`,\n",
      " |              same as with `width_shift_range=[-1, 0, +1]`,\n",
      " |              while with `width_shift_range=1.0` possible values are floats\n",
      " |              in the interval [-1.0, +1.0).\n",
      " |      height_shift_range: Float, 1-D array-like or int\n",
      " |          - float: fraction of total height, if < 1, or pixels if >= 1.\n",
      " |          - 1-D array-like: random elements from the array.\n",
      " |          - int: integer number of pixels from interval\n",
      " |              `(-height_shift_range, +height_shift_range)`\n",
      " |          - With `height_shift_range=2` possible values\n",
      " |              are integers `[-1, 0, +1]`,\n",
      " |              same as with `height_shift_range=[-1, 0, +1]`,\n",
      " |              while with `height_shift_range=1.0` possible values are floats\n",
      " |              in the interval [-1.0, +1.0).\n",
      " |      brightness_range: Tuple or list of two floats. Range for picking\n",
      " |          a brightness shift value from.\n",
      " |      shear_range: Float. Shear Intensity\n",
      " |          (Shear angle in counter-clockwise direction in degrees)\n",
      " |      zoom_range: Float or [lower, upper]. Range for random zoom.\n",
      " |          If a float, `[lower, upper] = [1-zoom_range, 1+zoom_range]`.\n",
      " |      channel_shift_range: Float. Range for random channel shifts.\n",
      " |      fill_mode: One of {\"constant\", \"nearest\", \"reflect\" or \"wrap\"}.\n",
      " |          Default is 'nearest'.\n",
      " |          Points outside the boundaries of the input are filled\n",
      " |          according to the given mode:\n",
      " |          - 'constant': kkkkkkkk|abcd|kkkkkkkk (cval=k)\n",
      " |          - 'nearest':  aaaaaaaa|abcd|dddddddd\n",
      " |          - 'reflect':  abcddcba|abcd|dcbaabcd\n",
      " |          - 'wrap':  abcdabcd|abcd|abcdabcd\n",
      " |      cval: Float or Int.\n",
      " |          Value used for points outside the boundaries\n",
      " |          when `fill_mode = \"constant\"`.\n",
      " |      horizontal_flip: Boolean. Randomly flip inputs horizontally.\n",
      " |      vertical_flip: Boolean. Randomly flip inputs vertically.\n",
      " |      rescale: rescaling factor. Defaults to None.\n",
      " |          If None or 0, no rescaling is applied,\n",
      " |          otherwise we multiply the data by the value provided\n",
      " |          (after applying all other transformations).\n",
      " |      preprocessing_function: function that will be implied on each input.\n",
      " |          The function will run after the image is resized and augmented.\n",
      " |          The function should take one argument:\n",
      " |          one image (Numpy tensor with rank 3),\n",
      " |          and should output a Numpy tensor with the same shape.\n",
      " |      data_format: Image data format,\n",
      " |          either \"channels_first\" or \"channels_last\".\n",
      " |          \"channels_last\" mode means that the images should have shape\n",
      " |          `(samples, height, width, channels)`,\n",
      " |          \"channels_first\" mode means that the images should have shape\n",
      " |          `(samples, channels, height, width)`.\n",
      " |          It defaults to the `image_data_format` value found in your\n",
      " |          Keras config file at `~/.keras/keras.json`.\n",
      " |          If you never set it, then it will be \"channels_last\".\n",
      " |      validation_split: Float. Fraction of images reserved for validation\n",
      " |          (strictly between 0 and 1).\n",
      " |      dtype: Dtype to use for the generated arrays.\n",
      " |  \n",
      " |  Examples:\n",
      " |  \n",
      " |  Example of using `.flow(x, y)`:\n",
      " |  \n",
      " |  ```python\n",
      " |  (x_train, y_train), (x_test, y_test) = cifar10.load_data()\n",
      " |  y_train = np_utils.to_categorical(y_train, num_classes)\n",
      " |  y_test = np_utils.to_categorical(y_test, num_classes)\n",
      " |  datagen = ImageDataGenerator(\n",
      " |      featurewise_center=True,\n",
      " |      featurewise_std_normalization=True,\n",
      " |      rotation_range=20,\n",
      " |      width_shift_range=0.2,\n",
      " |      height_shift_range=0.2,\n",
      " |      horizontal_flip=True)\n",
      " |  # compute quantities required for featurewise normalization\n",
      " |  # (std, mean, and principal components if ZCA whitening is applied)\n",
      " |  datagen.fit(x_train)\n",
      " |  # fits the model on batches with real-time data augmentation:\n",
      " |  model.fit_generator(datagen.flow(x_train, y_train, batch_size=32),\n",
      " |                      steps_per_epoch=len(x_train) / 32, epochs=epochs)\n",
      " |  # here's a more \"manual\" example\n",
      " |  for e in range(epochs):\n",
      " |      print('Epoch', e)\n",
      " |      batches = 0\n",
      " |      for x_batch, y_batch in datagen.flow(x_train, y_train, batch_size=32):\n",
      " |          model.fit(x_batch, y_batch)\n",
      " |          batches += 1\n",
      " |          if batches >= len(x_train) / 32:\n",
      " |              # we need to break the loop by hand because\n",
      " |              # the generator loops indefinitely\n",
      " |              break\n",
      " |  ```\n",
      " |  \n",
      " |  Example of using `.flow_from_directory(directory)`:\n",
      " |  \n",
      " |  ```python\n",
      " |  train_datagen = ImageDataGenerator(\n",
      " |          rescale=1./255,\n",
      " |          shear_range=0.2,\n",
      " |          zoom_range=0.2,\n",
      " |          horizontal_flip=True)\n",
      " |  test_datagen = ImageDataGenerator(rescale=1./255)\n",
      " |  train_generator = train_datagen.flow_from_directory(\n",
      " |          'data/train',\n",
      " |          target_size=(150, 150),\n",
      " |          batch_size=32,\n",
      " |          class_mode='binary')\n",
      " |  validation_generator = test_datagen.flow_from_directory(\n",
      " |          'data/validation',\n",
      " |          target_size=(150, 150),\n",
      " |          batch_size=32,\n",
      " |          class_mode='binary')\n",
      " |  model.fit_generator(\n",
      " |          train_generator,\n",
      " |          steps_per_epoch=2000,\n",
      " |          epochs=50,\n",
      " |          validation_data=validation_generator,\n",
      " |          validation_steps=800)\n",
      " |  ```\n",
      " |  \n",
      " |  Example of transforming images and masks together.\n",
      " |  \n",
      " |  ```python\n",
      " |  # we create two instances with the same arguments\n",
      " |  data_gen_args = dict(featurewise_center=True,\n",
      " |                       featurewise_std_normalization=True,\n",
      " |                       rotation_range=90,\n",
      " |                       width_shift_range=0.1,\n",
      " |                       height_shift_range=0.1,\n",
      " |                       zoom_range=0.2)\n",
      " |  image_datagen = ImageDataGenerator(**data_gen_args)\n",
      " |  mask_datagen = ImageDataGenerator(**data_gen_args)\n",
      " |  # Provide the same seed and keyword arguments to the fit and flow methods\n",
      " |  seed = 1\n",
      " |  image_datagen.fit(images, augment=True, seed=seed)\n",
      " |  mask_datagen.fit(masks, augment=True, seed=seed)\n",
      " |  image_generator = image_datagen.flow_from_directory(\n",
      " |      'data/images',\n",
      " |      class_mode=None,\n",
      " |      seed=seed)\n",
      " |  mask_generator = mask_datagen.flow_from_directory(\n",
      " |      'data/masks',\n",
      " |      class_mode=None,\n",
      " |      seed=seed)\n",
      " |  # combine generators into one which yields image and masks\n",
      " |  train_generator = zip(image_generator, mask_generator)\n",
      " |  model.fit_generator(\n",
      " |      train_generator,\n",
      " |      steps_per_epoch=2000,\n",
      " |      epochs=50)\n",
      " |  ```\n",
      " |  \n",
      " |  Method resolution order:\n",
      " |      ImageDataGenerator\n",
      " |      keras_preprocessing.image.image_data_generator.ImageDataGenerator\n",
      " |      builtins.object\n",
      " |  \n",
      " |  Methods defined here:\n",
      " |  \n",
      " |  __init__(self, featurewise_center=False, samplewise_center=False, featurewise_std_normalization=False, samplewise_std_normalization=False, zca_whitening=False, zca_epsilon=1e-06, rotation_range=0, width_shift_range=0.0, height_shift_range=0.0, brightness_range=None, shear_range=0.0, zoom_range=0.0, channel_shift_range=0.0, fill_mode='nearest', cval=0.0, horizontal_flip=False, vertical_flip=False, rescale=None, preprocessing_function=None, data_format=None, validation_split=0.0, dtype=None)\n",
      " |      Initialize self.  See help(type(self)) for accurate signature.\n",
      " |  \n",
      " |  ----------------------------------------------------------------------\n",
      " |  Methods inherited from keras_preprocessing.image.image_data_generator.ImageDataGenerator:\n",
      " |  \n",
      " |  apply_transform(self, x, transform_parameters)\n",
      " |      Applies a transformation to an image according to given parameters.\n",
      " |      \n",
      " |      # Arguments\n",
      " |          x: 3D tensor, single image.\n",
      " |          transform_parameters: Dictionary with string - parameter pairs\n",
      " |              describing the transformation.\n",
      " |              Currently, the following parameters\n",
      " |              from the dictionary are used:\n",
      " |              - `'theta'`: Float. Rotation angle in degrees.\n",
      " |              - `'tx'`: Float. Shift in the x direction.\n",
      " |              - `'ty'`: Float. Shift in the y direction.\n",
      " |              - `'shear'`: Float. Shear angle in degrees.\n",
      " |              - `'zx'`: Float. Zoom in the x direction.\n",
      " |              - `'zy'`: Float. Zoom in the y direction.\n",
      " |              - `'flip_horizontal'`: Boolean. Horizontal flip.\n",
      " |              - `'flip_vertical'`: Boolean. Vertical flip.\n",
      " |              - `'channel_shift_intencity'`: Float. Channel shift intensity.\n",
      " |              - `'brightness'`: Float. Brightness shift intensity.\n",
      " |      \n",
      " |      # Returns\n",
      " |          A transformed version of the input (same shape).\n",
      " |  \n",
      " |  fit(self, x, augment=False, rounds=1, seed=None)\n",
      " |      Fits the data generator to some sample data.\n",
      " |      \n",
      " |      This computes the internal data stats related to the\n",
      " |      data-dependent transformations, based on an array of sample data.\n",
      " |      \n",
      " |      Only required if `featurewise_center` or\n",
      " |      `featurewise_std_normalization` or `zca_whitening` are set to True.\n",
      " |      \n",
      " |      # Arguments\n",
      " |          x: Sample data. Should have rank 4.\n",
      " |           In case of grayscale data,\n",
      " |           the channels axis should have value 1, in case\n",
      " |           of RGB data, it should have value 3, and in case\n",
      " |           of RGBA data, it should have value 4.\n",
      " |          augment: Boolean (default: False).\n",
      " |              Whether to fit on randomly augmented samples.\n",
      " |          rounds: Int (default: 1).\n",
      " |              If using data augmentation (`augment=True`),\n",
      " |              this is how many augmentation passes over the data to use.\n",
      " |          seed: Int (default: None). Random seed.\n",
      " |  \n",
      " |  flow(self, x, y=None, batch_size=32, shuffle=True, sample_weight=None, seed=None, save_to_dir=None, save_prefix='', save_format='png', subset=None)\n",
      " |      Takes data & label arrays, generates batches of augmented data.\n",
      " |      \n",
      " |      # Arguments\n",
      " |          x: Input data. Numpy array of rank 4 or a tuple.\n",
      " |              If tuple, the first element\n",
      " |              should contain the images and the second element\n",
      " |              another numpy array or a list of numpy arrays\n",
      " |              that gets passed to the output\n",
      " |              without any modifications.\n",
      " |              Can be used to feed the model miscellaneous data\n",
      " |              along with the images.\n",
      " |              In case of grayscale data, the channels axis of the image array\n",
      " |              should have value 1, in case\n",
      " |              of RGB data, it should have value 3, and in case\n",
      " |              of RGBA data, it should have value 4.\n",
      " |          y: Labels.\n",
      " |          batch_size: Int (default: 32).\n",
      " |          shuffle: Boolean (default: True).\n",
      " |          sample_weight: Sample weights.\n",
      " |          seed: Int (default: None).\n",
      " |          save_to_dir: None or str (default: None).\n",
      " |              This allows you to optionally specify a directory\n",
      " |              to which to save the augmented pictures being generated\n",
      " |              (useful for visualizing what you are doing).\n",
      " |          save_prefix: Str (default: `''`).\n",
      " |              Prefix to use for filenames of saved pictures\n",
      " |              (only relevant if `save_to_dir` is set).\n",
      " |          save_format: one of \"png\", \"jpeg\"\n",
      " |              (only relevant if `save_to_dir` is set). Default: \"png\".\n",
      " |          subset: Subset of data (`\"training\"` or `\"validation\"`) if\n",
      " |              `validation_split` is set in `ImageDataGenerator`.\n",
      " |      \n",
      " |      # Returns\n",
      " |          An `Iterator` yielding tuples of `(x, y)`\n",
      " |              where `x` is a numpy array of image data\n",
      " |              (in the case of a single image input) or a list\n",
      " |              of numpy arrays (in the case with\n",
      " |              additional inputs) and `y` is a numpy array\n",
      " |              of corresponding labels. If 'sample_weight' is not None,\n",
      " |              the yielded tuples are of the form `(x, y, sample_weight)`.\n",
      " |              If `y` is None, only the numpy array `x` is returned.\n",
      " |  \n",
      " |  flow_from_dataframe(self, dataframe, directory=None, x_col='filename', y_col='class', weight_col=None, target_size=(256, 256), color_mode='rgb', classes=None, class_mode='categorical', batch_size=32, shuffle=True, seed=None, save_to_dir=None, save_prefix='', save_format='png', subset=None, interpolation='nearest', validate_filenames=True, **kwargs)\n",
      " |      Takes the dataframe and the path to a directory\n",
      " |       and generates batches of augmented/normalized data.\n",
      " |      \n",
      " |      **A simple tutorial can be found **[here](\n",
      " |                                  http://bit.ly/keras_flow_from_dataframe).\n",
      " |      \n",
      " |      # Arguments\n",
      " |          dataframe: Pandas dataframe containing the filepaths relative to\n",
      " |              `directory` (or absolute paths if `directory` is None) of the\n",
      " |              images in a string column. It should include other column/s\n",
      " |              depending on the `class_mode`:\n",
      " |              - if `class_mode` is `\"categorical\"` (default value) it must\n",
      " |                  include the `y_col` column with the class/es of each image.\n",
      " |                  Values in column can be string/list/tuple if a single class\n",
      " |                  or list/tuple if multiple classes.\n",
      " |              - if `class_mode` is `\"binary\"` or `\"sparse\"` it must include\n",
      " |                  the given `y_col` column with class values as strings.\n",
      " |              - if `class_mode` is `\"raw\"` or `\"multi_output\"` it should contain\n",
      " |              the columns specified in `y_col`.\n",
      " |              - if `class_mode` is `\"input\"` or `None` no extra column is needed.\n",
      " |          directory: string, path to the directory to read images from. If `None`,\n",
      " |              data in `x_col` column should be absolute paths.\n",
      " |          x_col: string, column in `dataframe` that contains the filenames (or\n",
      " |              absolute paths if `directory` is `None`).\n",
      " |          y_col: string or list, column/s in `dataframe` that has the target data.\n",
      " |          weight_col: string, column in `dataframe` that contains the sample\n",
      " |              weights. Default: `None`.\n",
      " |          target_size: tuple of integers `(height, width)`, default: `(256, 256)`.\n",
      " |              The dimensions to which all images found will be resized.\n",
      " |          color_mode: one of \"grayscale\", \"rgb\", \"rgba\". Default: \"rgb\".\n",
      " |              Whether the images will be converted to have 1 or 3 color channels.\n",
      " |          classes: optional list of classes (e.g. `['dogs', 'cats']`).\n",
      " |              Default: None. If not provided, the list of classes will be\n",
      " |              automatically inferred from the `y_col`,\n",
      " |              which will map to the label indices, will be alphanumeric).\n",
      " |              The dictionary containing the mapping from class names to class\n",
      " |              indices can be obtained via the attribute `class_indices`.\n",
      " |          class_mode: one of \"binary\", \"categorical\", \"input\", \"multi_output\",\n",
      " |              \"raw\", sparse\" or None. Default: \"categorical\".\n",
      " |              Mode for yielding the targets:\n",
      " |              - `\"binary\"`: 1D numpy array of binary labels,\n",
      " |              - `\"categorical\"`: 2D numpy array of one-hot encoded labels.\n",
      " |                  Supports multi-label output.\n",
      " |              - `\"input\"`: images identical to input images (mainly used to\n",
      " |                  work with autoencoders),\n",
      " |              - `\"multi_output\"`: list with the values of the different columns,\n",
      " |              - `\"raw\"`: numpy array of values in `y_col` column(s),\n",
      " |              - `\"sparse\"`: 1D numpy array of integer labels,\n",
      " |              - `None`, no targets are returned (the generator will only yield\n",
      " |                  batches of image data, which is useful to use in\n",
      " |                  `model.predict_generator()`).\n",
      " |          batch_size: size of the batches of data (default: 32).\n",
      " |          shuffle: whether to shuffle the data (default: True)\n",
      " |          seed: optional random seed for shuffling and transformations.\n",
      " |          save_to_dir: None or str (default: None).\n",
      " |              This allows you to optionally specify a directory\n",
      " |              to which to save the augmented pictures being generated\n",
      " |              (useful for visualizing what you are doing).\n",
      " |          save_prefix: str. Prefix to use for filenames of saved pictures\n",
      " |              (only relevant if `save_to_dir` is set).\n",
      " |          save_format: one of \"png\", \"jpeg\"\n",
      " |              (only relevant if `save_to_dir` is set). Default: \"png\".\n",
      " |          follow_links: whether to follow symlinks inside class subdirectories\n",
      " |              (default: False).\n",
      " |          subset: Subset of data (`\"training\"` or `\"validation\"`) if\n",
      " |              `validation_split` is set in `ImageDataGenerator`.\n",
      " |          interpolation: Interpolation method used to resample the image if the\n",
      " |              target size is different from that of the loaded image.\n",
      " |              Supported methods are `\"nearest\"`, `\"bilinear\"`, and `\"bicubic\"`.\n",
      " |              If PIL version 1.1.3 or newer is installed, `\"lanczos\"` is also\n",
      " |              supported. If PIL version 3.4.0 or newer is installed, `\"box\"` and\n",
      " |              `\"hamming\"` are also supported. By default, `\"nearest\"` is used.\n",
      " |          validate_filenames: Boolean, whether to validate image filenames in\n",
      " |              `x_col`. If `True`, invalid images will be ignored. Disabling this\n",
      " |              option can lead to speed-up in the execution of this function.\n",
      " |              Default: `True`.\n",
      " |      \n",
      " |      # Returns\n",
      " |          A `DataFrameIterator` yielding tuples of `(x, y)`\n",
      " |          where `x` is a numpy array containing a batch\n",
      " |          of images with shape `(batch_size, *target_size, channels)`\n",
      " |          and `y` is a numpy array of corresponding labels.\n",
      " |  \n",
      " |  flow_from_directory(self, directory, target_size=(256, 256), color_mode='rgb', classes=None, class_mode='categorical', batch_size=32, shuffle=True, seed=None, save_to_dir=None, save_prefix='', save_format='png', follow_links=False, subset=None, interpolation='nearest')\n",
      " |      Takes the path to a directory & generates batches of augmented data.\n",
      " |      \n",
      " |      # Arguments\n",
      " |          directory: string, path to the target directory.\n",
      " |              It should contain one subdirectory per class.\n",
      " |              Any PNG, JPG, BMP, PPM or TIF images\n",
      " |              inside each of the subdirectories directory tree\n",
      " |              will be included in the generator.\n",
      " |              See [this script](\n",
      " |              https://gist.github.com/fchollet/0830affa1f7f19fd47b06d4cf89ed44d)\n",
      " |              for more details.\n",
      " |          target_size: Tuple of integers `(height, width)`,\n",
      " |              default: `(256, 256)`.\n",
      " |              The dimensions to which all images found will be resized.\n",
      " |          color_mode: One of \"grayscale\", \"rgb\", \"rgba\". Default: \"rgb\".\n",
      " |              Whether the images will be converted to\n",
      " |              have 1, 3, or 4 channels.\n",
      " |          classes: Optional list of class subdirectories\n",
      " |              (e.g. `['dogs', 'cats']`). Default: None.\n",
      " |              If not provided, the list of classes will be automatically\n",
      " |              inferred from the subdirectory names/structure\n",
      " |              under `directory`, where each subdirectory will\n",
      " |              be treated as a different class\n",
      " |              (and the order of the classes, which will map to the label\n",
      " |              indices, will be alphanumeric).\n",
      " |              The dictionary containing the mapping from class names to class\n",
      " |              indices can be obtained via the attribute `class_indices`.\n",
      " |          class_mode: One of \"categorical\", \"binary\", \"sparse\",\n",
      " |              \"input\", or None. Default: \"categorical\".\n",
      " |              Determines the type of label arrays that are returned:\n",
      " |              - \"categorical\" will be 2D one-hot encoded labels,\n",
      " |              - \"binary\" will be 1D binary labels,\n",
      " |                  \"sparse\" will be 1D integer labels,\n",
      " |              - \"input\" will be images identical\n",
      " |                  to input images (mainly used to work with autoencoders).\n",
      " |              - If None, no labels are returned\n",
      " |                (the generator will only yield batches of image data,\n",
      " |                which is useful to use with `model.predict_generator()`).\n",
      " |                Please note that in case of class_mode None,\n",
      " |                the data still needs to reside in a subdirectory\n",
      " |                of `directory` for it to work correctly.\n",
      " |          batch_size: Size of the batches of data (default: 32).\n",
      " |          shuffle: Whether to shuffle the data (default: True)\n",
      " |              If set to False, sorts the data in alphanumeric order.\n",
      " |          seed: Optional random seed for shuffling and transformations.\n",
      " |          save_to_dir: None or str (default: None).\n",
      " |              This allows you to optionally specify\n",
      " |              a directory to which to save\n",
      " |              the augmented pictures being generated\n",
      " |              (useful for visualizing what you are doing).\n",
      " |          save_prefix: Str. Prefix to use for filenames of saved pictures\n",
      " |              (only relevant if `save_to_dir` is set).\n",
      " |          save_format: One of \"png\", \"jpeg\"\n",
      " |              (only relevant if `save_to_dir` is set). Default: \"png\".\n",
      " |          follow_links: Whether to follow symlinks inside\n",
      " |              class subdirectories (default: False).\n",
      " |          subset: Subset of data (`\"training\"` or `\"validation\"`) if\n",
      " |              `validation_split` is set in `ImageDataGenerator`.\n",
      " |          interpolation: Interpolation method used to\n",
      " |              resample the image if the\n",
      " |              target size is different from that of the loaded image.\n",
      " |              Supported methods are `\"nearest\"`, `\"bilinear\"`,\n",
      " |              and `\"bicubic\"`.\n",
      " |              If PIL version 1.1.3 or newer is installed, `\"lanczos\"` is also\n",
      " |              supported. If PIL version 3.4.0 or newer is installed,\n",
      " |              `\"box\"` and `\"hamming\"` are also supported.\n",
      " |              By default, `\"nearest\"` is used.\n",
      " |      \n",
      " |      # Returns\n",
      " |          A `DirectoryIterator` yielding tuples of `(x, y)`\n",
      " |              where `x` is a numpy array containing a batch\n",
      " |              of images with shape `(batch_size, *target_size, channels)`\n",
      " |              and `y` is a numpy array of corresponding labels.\n",
      " |  \n",
      " |  get_random_transform(self, img_shape, seed=None)\n",
      " |      Generates random parameters for a transformation.\n",
      " |      \n",
      " |      # Arguments\n",
      " |          seed: Random seed.\n",
      " |          img_shape: Tuple of integers.\n",
      " |              Shape of the image that is transformed.\n",
      " |      \n",
      " |      # Returns\n",
      " |          A dictionary containing randomly chosen parameters describing the\n",
      " |          transformation.\n",
      " |  \n",
      " |  random_transform(self, x, seed=None)\n",
      " |      Applies a random transformation to an image.\n",
      " |      \n",
      " |      # Arguments\n",
      " |          x: 3D tensor, single image.\n",
      " |          seed: Random seed.\n",
      " |      \n",
      " |      # Returns\n",
      " |          A randomly transformed version of the input (same shape).\n",
      " |  \n",
      " |  standardize(self, x)\n",
      " |      Applies the normalization configuration in-place to a batch of inputs.\n",
      " |      \n",
      " |      `x` is changed in-place since the function is mainly used internally\n",
      " |      to standarize images and feed them to your network. If a copy of `x`\n",
      " |      would be created instead it would have a significant performance cost.\n",
      " |      If you want to apply this method without changing the input in-place\n",
      " |      you can call the method creating a copy before:\n",
      " |      \n",
      " |      standarize(np.copy(x))\n",
      " |      \n",
      " |      # Arguments\n",
      " |          x: Batch of inputs to be normalized.\n",
      " |      \n",
      " |      # Returns\n",
      " |          The inputs, normalized.\n",
      " |  \n",
      " |  ----------------------------------------------------------------------\n",
      " |  Data descriptors inherited from keras_preprocessing.image.image_data_generator.ImageDataGenerator:\n",
      " |  \n",
      " |  __dict__\n",
      " |      dictionary for instance variables (if defined)\n",
      " |  \n",
      " |  __weakref__\n",
      " |      list of weak references to the object (if defined)\n",
      "\n"
     ]
    }
   ],
   "source": [
    "help(ImageDataGenerator)"
   ]
  },
  {
   "cell_type": "code",
   "execution_count": 76,
   "metadata": {},
   "outputs": [
    {
     "data": {
      "text/plain": [
       "0.90588236"
      ]
     },
     "execution_count": 76,
     "metadata": {},
     "output_type": "execute_result"
    }
   ],
   "source": [
    "imread(one_cell).max()"
   ]
  },
  {
   "cell_type": "code",
   "execution_count": 77,
   "metadata": {},
   "outputs": [],
   "source": [
    "img_gen = ImageDataGenerator(rotation_range=20,\n",
    "                            width_shift_range=0.1,\n",
    "                            height_shift_range=0.1,\n",
    "                            shear_range=0.1,\n",
    "                            zoom_range=0.1,\n",
    "                            horizontal_flip=True,\n",
    "                            fill_mode='nearest')"
   ]
  },
  {
   "cell_type": "code",
   "execution_count": 79,
   "metadata": {},
   "outputs": [
    {
     "data": {
      "text/plain": [
       "<matplotlib.image.AxesImage at 0x28bd7380dc8>"
      ]
     },
     "execution_count": 79,
     "metadata": {},
     "output_type": "execute_result"
    },
    {
     "data": {
      "image/png": "[encoded data removed]",
      "text/plain": [
       "<Figure size 432x288 with 1 Axes>"
      ]
     },
     "metadata": {
      "needs_background": "light"
     },
     "output_type": "display_data"
    }
   ],
   "source": [
    "plt.imshow(imread(one_cell))"
   ]
  },
  {
   "cell_type": "code",
   "execution_count": 80,
   "metadata": {},
   "outputs": [],
   "source": [
    "one_cell_r = imread(one_cell)"
   ]
  },
  {
   "cell_type": "code",
   "execution_count": 81,
   "metadata": {},
   "outputs": [
    {
     "data": {
      "text/plain": [
       "<matplotlib.image.AxesImage at 0x28bd7442748>"
      ]
     },
     "execution_count": 81,
     "metadata": {},
     "output_type": "execute_result"
    },
    {
     "data": {
      "image/png": "[encoded data removed]",
      "text/plain": [
       "<Figure size 432x288 with 1 Axes>"
      ]
     },
     "metadata": {
      "needs_background": "light"
     },
     "output_type": "display_data"
    }
   ],
   "source": [
    "plt.imshow(one_cell_r)"
   ]
  },
  {
   "cell_type": "code",
   "execution_count": 94,
   "metadata": {},
   "outputs": [
    {
     "data": {
      "text/plain": [
       "<matplotlib.image.AxesImage at 0x28bd89195c8>"
      ]
     },
     "execution_count": 94,
     "metadata": {},
     "output_type": "execute_result"
    },
    {
     "data": {
      "image/png": "[encoded data removed]",
      "text/plain": [
       "<Figure size 432x288 with 1 Axes>"
      ]
     },
     "metadata": {
      "needs_background": "light"
     },
     "output_type": "display_data"
    }
   ],
   "source": [
    "plt.imshow(img_gen.random_transform(one_cell_r))"
   ]
  },
  {
   "cell_type": "code",
   "execution_count": 86,
   "metadata": {},
   "outputs": [],
   "source": [
    "# Data can be augmented, artificially expanded and double the size"
   ]
  },
  {
   "cell_type": "code",
   "execution_count": 95,
   "metadata": {},
   "outputs": [
    {
     "name": "stdout",
     "output_type": "stream",
     "text": [
      "Found 24958 images belonging to 2 classes.\n"
     ]
    },
    {
     "data": {
      "text/plain": [
       "<keras_preprocessing.image.directory_iterator.DirectoryIterator at 0x28bd8982988>"
      ]
     },
     "execution_count": 95,
     "metadata": {},
     "output_type": "execute_result"
    }
   ],
   "source": [
    "img_gen.flow_from_directory(train_path)"
   ]
  },
  {
   "cell_type": "code",
   "execution_count": 96,
   "metadata": {},
   "outputs": [
    {
     "name": "stdout",
     "output_type": "stream",
     "text": [
      "Found 2600 images belonging to 2 classes.\n"
     ]
    },
    {
     "data": {
      "text/plain": [
       "<keras_preprocessing.image.directory_iterator.DirectoryIterator at 0x28bd89c9508>"
      ]
     },
     "execution_count": 96,
     "metadata": {},
     "output_type": "execute_result"
    }
   ],
   "source": [
    "img_gen.flow_from_directory(test_path)"
   ]
  },
  {
   "cell_type": "code",
   "execution_count": 97,
   "metadata": {},
   "outputs": [],
   "source": [
    "# for .flow_from_directory, data must be orginized in the number of folders as the number of classes\n",
    "# Ex: dog, cat, and bird classes and each needs to have a folder for itself"
   ]
  },
  {
   "cell_type": "code",
   "execution_count": 103,
   "metadata": {},
   "outputs": [],
   "source": [
    "from tensorflow.keras.models import Sequential\n",
    "from tensorflow.keras.layers import Dense, Conv2D, MaxPool2D, Dropout, Flatten"
   ]
  },
  {
   "cell_type": "code",
   "execution_count": null,
   "metadata": {},
   "outputs": [],
   "source": []
  },
  {
   "cell_type": "code",
   "execution_count": 133,
   "metadata": {},
   "outputs": [],
   "source": [
    "model = Sequential()\n",
    "\n",
    "model.add(Conv2D(filters=32, kernel_size=(3,3), input_shape = image_shape, activation='relu'))\n",
    "model.add(MaxPool2D(pool_size=(2,2)))\n",
    "\n",
    "model.add(Conv2D(filters=64, kernel_size=(3,3), input_shape = image_shape, activation='relu'))\n",
    "model.add(MaxPool2D(pool_size=(2,2)))\n",
    "\n",
    "model.add(Conv2D(filters=64, kernel_size=(3,3), input_shape = image_shape, activation='relu'))\n",
    "model.add(MaxPool2D(pool_size=(2,2)))\n",
    "\n",
    "\n",
    "model.add(Flatten())\n",
    "model.add(Dense(128, activation='relu'))\n",
    "\n",
    "model.add(Dropout(0.5))\n",
    "\n",
    "model.add(Dense(1, activation='sigmoid'))\n",
    "\n",
    "model.compile(loss='binary_crossentropy', optimizer='adam', metrics=['accuracy'])"
   ]
  },
  {
   "cell_type": "code",
   "execution_count": 134,
   "metadata": {},
   "outputs": [
    {
     "name": "stdout",
     "output_type": "stream",
     "text": [
      "_________________________________________________________________\n",
      "Layer (type)                 Output Shape              Param #   \n",
      "=================================================================\n",
      "conv2d_16 (Conv2D)           (None, 128, 128, 32)      896       \n",
      "_________________________________________________________________\n",
      "max_pooling2d_15 (MaxPooling (None, 64, 64, 32)        0         \n",
      "_________________________________________________________________\n",
      "conv2d_17 (Conv2D)           (None, 62, 62, 64)        18496     \n",
      "_________________________________________________________________\n",
      "max_pooling2d_16 (MaxPooling (None, 31, 31, 64)        0         \n",
      "_________________________________________________________________\n",
      "conv2d_18 (Conv2D)           (None, 29, 29, 64)        36928     \n",
      "_________________________________________________________________\n",
      "max_pooling2d_17 (MaxPooling (None, 14, 14, 64)        0         \n",
      "_________________________________________________________________\n",
      "flatten (Flatten)            (None, 12544)             0         \n",
      "_________________________________________________________________\n",
      "dense_9 (Dense)              (None, 128)               1605760   \n",
      "_________________________________________________________________\n",
      "dropout_5 (Dropout)          (None, 128)               0         \n",
      "_________________________________________________________________\n",
      "dense_10 (Dense)             (None, 1)                 129       \n",
      "=================================================================\n",
      "Total params: 1,662,209\n",
      "Trainable params: 1,662,209\n",
      "Non-trainable params: 0\n",
      "_________________________________________________________________\n"
     ]
    }
   ],
   "source": [
    "model.summary()"
   ]
  },
  {
   "cell_type": "code",
   "execution_count": null,
   "metadata": {},
   "outputs": [],
   "source": []
  },
  {
   "cell_type": "code",
   "execution_count": 135,
   "metadata": {},
   "outputs": [],
   "source": [
    "from tensorflow.keras.callbacks import EarlyStopping\n",
    "early_stop = EarlyStopping(monitor='val_loss', patience=2)"
   ]
  },
  {
   "cell_type": "code",
   "execution_count": 136,
   "metadata": {},
   "outputs": [],
   "source": [
    "batch_size=16"
   ]
  },
  {
   "cell_type": "code",
   "execution_count": 137,
   "metadata": {},
   "outputs": [
    {
     "name": "stdout",
     "output_type": "stream",
     "text": [
      "Found 24958 images belonging to 2 classes.\n"
     ]
    }
   ],
   "source": [
    "train_image_gen = img_gen.flow_from_directory(train_path, target_size=image_shape[:2], color_mode='rgb',\n",
    "                                              batch_size=batch_size,\n",
    "                                             class_mode='binary')"
   ]
  },
  {
   "cell_type": "code",
   "execution_count": 138,
   "metadata": {},
   "outputs": [
    {
     "name": "stdout",
     "output_type": "stream",
     "text": [
      "Found 2600 images belonging to 2 classes.\n"
     ]
    }
   ],
   "source": [
    "test_image_gen = img_gen.flow_from_directory(test_path, target_size=image_shape[:2], color_mode='rgb',\n",
    "                                              batch_size=batch_size,\n",
    "                                             class_mode='binary',\n",
    "                                            shuffle=False)"
   ]
  },
  {
   "cell_type": "code",
   "execution_count": 139,
   "metadata": {},
   "outputs": [
    {
     "data": {
      "text/plain": [
       "{'parasitized': 0, 'uninfected': 1}"
      ]
     },
     "execution_count": 139,
     "metadata": {},
     "output_type": "execute_result"
    }
   ],
   "source": [
    "test_image_gen.class_indices"
   ]
  },
  {
   "cell_type": "code",
   "execution_count": 145,
   "metadata": {},
   "outputs": [
    {
     "name": "stdout",
     "output_type": "stream",
     "text": [
      "163/163 [==============================] - 28s 173ms/step - loss: 8.0838 - acc: 0.5000\n",
      "1560/1560 [==============================] - 417s 267ms/step - loss: 8.0125 - acc: 0.5018 - val_loss: 8.0838 - val_acc: 0.5000\n"
     ]
    }
   ],
   "source": [
    "results = model.fit_generator(train_image_gen, epochs=1, validation_data=test_image_gen, callbacks=[early_stop])"
   ]
  },
  {
   "cell_type": "code",
   "execution_count": 146,
   "metadata": {},
   "outputs": [],
   "source": [
    "from tensorflow.keras.models import load_model"
   ]
  },
  {
   "cell_type": "code",
   "execution_count": 150,
   "metadata": {},
   "outputs": [],
   "source": [
    "model.save('malaria.h5')"
   ]
  },
  {
   "cell_type": "code",
   "execution_count": 151,
   "metadata": {},
   "outputs": [
    {
     "data": {
      "text/html": [
       "<div>\n",
       "<style scoped>\n",
       "    .dataframe tbody tr th:only-of-type {\n",
       "        vertical-align: middle;\n",
       "    }\n",
       "\n",
       "    .dataframe tbody tr th {\n",
       "        vertical-align: top;\n",
       "    }\n",
       "\n",
       "    .dataframe thead th {\n",
       "        text-align: right;\n",
       "    }\n",
       "</style>\n",
       "<table border=\"1\" class=\"dataframe\">\n",
       "  <thead>\n",
       "    <tr style=\"text-align: right;\">\n",
       "      <th></th>\n",
       "      <th>loss</th>\n",
       "      <th>acc</th>\n",
       "      <th>val_loss</th>\n",
       "      <th>val_acc</th>\n",
       "    </tr>\n",
       "  </thead>\n",
       "  <tbody>\n",
       "    <tr>\n",
       "      <th>0</th>\n",
       "      <td>8.012628</td>\n",
       "      <td>0.501763</td>\n",
       "      <td>8.083769</td>\n",
       "      <td>0.5</td>\n",
       "    </tr>\n",
       "  </tbody>\n",
       "</table>\n",
       "</div>"
      ],
      "text/plain": [
       "       loss       acc  val_loss  val_acc\n",
       "0  8.012628  0.501763  8.083769      0.5"
      ]
     },
     "execution_count": 151,
     "metadata": {},
     "output_type": "execute_result"
    }
   ],
   "source": [
    "losses"
   ]
  },
  {
   "cell_type": "code",
   "execution_count": 152,
   "metadata": {},
   "outputs": [],
   "source": [
    "losses = pd.DataFrame(model.history.history)"
   ]
  },
  {
   "cell_type": "code",
   "execution_count": 156,
   "metadata": {},
   "outputs": [
    {
     "data": {
      "text/plain": [
       "<matplotlib.axes._subplots.AxesSubplot at 0x28b92929c88>"
      ]
     },
     "execution_count": 156,
     "metadata": {},
     "output_type": "execute_result"
    },
    {
     "data": {
      "image/png": "[encoded data removed]",
      "text/plain": [
       "<Figure size 432x288 with 1 Axes>"
      ]
     },
     "metadata": {
      "needs_background": "light"
     },
     "output_type": "display_data"
    }
   ],
   "source": [
    "losses[['loss', 'val_loss']].plot()"
   ]
  },
  {
   "cell_type": "code",
   "execution_count": 157,
   "metadata": {},
   "outputs": [
    {
     "data": {
      "text/plain": [
       "[8.083768753879447, 0.5]"
      ]
     },
     "execution_count": 157,
     "metadata": {},
     "output_type": "execute_result"
    }
   ],
   "source": [
    "model.evaluate_generator(test_image_gen)"
   ]
  },
  {
   "cell_type": "code",
   "execution_count": 158,
   "metadata": {},
   "outputs": [],
   "source": [
    "from tensorflow.keras.preprocessing import image"
   ]
  },
  {
   "cell_type": "code",
   "execution_count": 159,
   "metadata": {},
   "outputs": [],
   "source": [
    "predictions = model.predict_generator(test_image_gen)"
   ]
  },
  {
   "cell_type": "code",
   "execution_count": 160,
   "metadata": {},
   "outputs": [
    {
     "data": {
      "text/plain": [
       "array([[0.],\n",
       "       [0.],\n",
       "       [0.],\n",
       "       ...,\n",
       "       [0.],\n",
       "       [0.],\n",
       "       [0.]], dtype=float32)"
      ]
     },
     "execution_count": 160,
     "metadata": {},
     "output_type": "execute_result"
    }
   ],
   "source": [
    "predictions"
   ]
  },
  {
   "cell_type": "code",
   "execution_count": 161,
   "metadata": {},
   "outputs": [],
   "source": [
    "prediction = predictions > 0.5"
   ]
  },
  {
   "cell_type": "code",
   "execution_count": 162,
   "metadata": {},
   "outputs": [
    {
     "data": {
      "text/plain": [
       "array([[False],\n",
       "       [False],\n",
       "       [False],\n",
       "       ...,\n",
       "       [False],\n",
       "       [False],\n",
       "       [False]])"
      ]
     },
     "execution_count": 162,
     "metadata": {},
     "output_type": "execute_result"
    }
   ],
   "source": [
    "prediction"
   ]
  },
  {
   "cell_type": "code",
   "execution_count": 163,
   "metadata": {},
   "outputs": [],
   "source": [
    "from sklearn.metrics import classification_report, confusion_matrix"
   ]
  },
  {
   "cell_type": "code",
   "execution_count": 165,
   "metadata": {},
   "outputs": [
    {
     "name": "stdout",
     "output_type": "stream",
     "text": [
      "              precision    recall  f1-score   support\n",
      "\n",
      "           0       1.00      0.50      0.67      2600\n",
      "           1       0.00      0.00      0.00         0\n",
      "\n",
      "    accuracy                           0.50      2600\n",
      "   macro avg       0.50      0.25      0.33      2600\n",
      "weighted avg       1.00      0.50      0.67      2600\n",
      "\n"
     ]
    },
    {
     "name": "stderr",
     "output_type": "stream",
     "text": [
      "C:\\Users\\agamm\\Anaconda3\\lib\\site-packages\\sklearn\\metrics\\_classification.py:1272: UndefinedMetricWarning: Recall and F-score are ill-defined and being set to 0.0 in labels with no true samples. Use `zero_division` parameter to control this behavior.\n",
      "  _warn_prf(average, modifier, msg_start, len(result))\n"
     ]
    }
   ],
   "source": [
    "print(classification_report(prediction, test_image_gen.classes))"
   ]
  },
  {
   "cell_type": "code",
   "execution_count": 170,
   "metadata": {},
   "outputs": [
    {
     "data": {
      "text/plain": [
       "array([0, 0, 0, ..., 1, 1, 1])"
      ]
     },
     "execution_count": 170,
     "metadata": {},
     "output_type": "execute_result"
    }
   ],
   "source": [
    "test_image_gen.classes"
   ]
  },
  {
   "cell_type": "code",
   "execution_count": 171,
   "metadata": {},
   "outputs": [
    {
     "data": {
      "text/plain": [
       "array([[1300,    0],\n",
       "       [1300,    0]], dtype=int64)"
      ]
     },
     "execution_count": 171,
     "metadata": {},
     "output_type": "execute_result"
    }
   ],
   "source": [
    "confusion_matrix(test_image_gen.classes, prediction)"
   ]
  },
  {
   "cell_type": "code",
   "execution_count": 181,
   "metadata": {},
   "outputs": [],
   "source": [
    "from tensorflow.keras.preprocessing import image"
   ]
  },
  {
   "cell_type": "code",
   "execution_count": 182,
   "metadata": {},
   "outputs": [],
   "source": [
    "my_image = image.load_img(one_cell, target_size=image_shape)"
   ]
  },
  {
   "cell_type": "code",
   "execution_count": 183,
   "metadata": {},
   "outputs": [
    {
     "data": {
      "image/png": "[encoded data removed]",
      "text/plain": [
       "<PIL.Image.Image image mode=RGB size=130x130 at 0x28B9CA2AD48>"
      ]
     },
     "execution_count": 183,
     "metadata": {},
     "output_type": "execute_result"
    }
   ],
   "source": [
    "my_image"
   ]
  },
  {
   "cell_type": "code",
   "execution_count": 186,
   "metadata": {},
   "outputs": [],
   "source": [
    "my_image = image.img_to_array(my_image)"
   ]
  },
  {
   "cell_type": "code",
   "execution_count": 191,
   "metadata": {},
   "outputs": [
    {
     "data": {
      "text/plain": [
       "(130, 130, 3)"
      ]
     },
     "execution_count": 191,
     "metadata": {},
     "output_type": "execute_result"
    }
   ],
   "source": [
    "my_image.shape"
   ]
  },
  {
   "cell_type": "code",
   "execution_count": 192,
   "metadata": {},
   "outputs": [],
   "source": [
    "my_imge_arr = np.expand_dims(my_image, axis=0)"
   ]
  },
  {
   "cell_type": "code",
   "execution_count": 193,
   "metadata": {},
   "outputs": [
    {
     "data": {
      "text/plain": [
       "(1, 130, 130, 3)"
      ]
     },
     "execution_count": 193,
     "metadata": {},
     "output_type": "execute_result"
    }
   ],
   "source": [
    "my_imge_arr.shape"
   ]
  },
  {
   "cell_type": "code",
   "execution_count": 194,
   "metadata": {},
   "outputs": [
    {
     "data": {
      "text/plain": [
       "array([[0.]], dtype=float32)"
      ]
     },
     "execution_count": 194,
     "metadata": {},
     "output_type": "execute_result"
    }
   ],
   "source": [
    "model.predict(my_imge_arr)"
   ]
  },
  {
   "cell_type": "code",
   "execution_count": 195,
   "metadata": {},
   "outputs": [
    {
     "data": {
      "text/plain": [
       "{'parasitized': 0, 'uninfected': 1}"
      ]
     },
     "execution_count": 195,
     "metadata": {},
     "output_type": "execute_result"
    }
   ],
   "source": [
    "train_image_gen.class_indices"
   ]
  },
  {
   "cell_type": "code",
   "execution_count": null,
   "metadata": {},
   "outputs": [],
   "source": []
  }
 ],
 "metadata": {
  "kernelspec": {
   "display_name": "Python 3",
   "language": "python",
   "name": "python3"
  },
  "language_info": {
   "codemirror_mode": {
    "name": "ipython",
    "version": 3
   },
   "file_extension": ".py",
   "mimetype": "text/x-python",
   "name": "python",
   "nbconvert_exporter": "python",
   "pygments_lexer": "ipython3",
   "version": "3.7.6"
  }
 },
 "nbformat": 4,
 "nbformat_minor": 4
}
